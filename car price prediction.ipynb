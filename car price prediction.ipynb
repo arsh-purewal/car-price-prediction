{
 "cells": [
  {
   "cell_type": "code",
   "execution_count": 263,
   "id": "47c4e1d1",
   "metadata": {},
   "outputs": [],
   "source": [
    "import numpy as np\n",
    "import pandas as pd\n",
    "import matplotlib.pyplot as plt \n",
    "import seaborn as sns\n",
    "\n",
    "%matplotlib inline"
   ]
  },
  {
   "cell_type": "code",
   "execution_count": 264,
   "id": "97be5e9e",
   "metadata": {},
   "outputs": [],
   "source": [
    "df = pd.read_csv('Car details v3.csv')"
   ]
  },
  {
   "cell_type": "code",
   "execution_count": 265,
   "id": "215ae76c",
   "metadata": {},
   "outputs": [
    {
     "data": {
      "text/html": [
       "<div>\n",
       "<style scoped>\n",
       "    .dataframe tbody tr th:only-of-type {\n",
       "        vertical-align: middle;\n",
       "    }\n",
       "\n",
       "    .dataframe tbody tr th {\n",
       "        vertical-align: top;\n",
       "    }\n",
       "\n",
       "    .dataframe thead th {\n",
       "        text-align: right;\n",
       "    }\n",
       "</style>\n",
       "<table border=\"1\" class=\"dataframe\">\n",
       "  <thead>\n",
       "    <tr style=\"text-align: right;\">\n",
       "      <th></th>\n",
       "      <th>name</th>\n",
       "      <th>year</th>\n",
       "      <th>selling_price</th>\n",
       "      <th>km_driven</th>\n",
       "      <th>fuel</th>\n",
       "      <th>seller_type</th>\n",
       "      <th>transmission</th>\n",
       "      <th>owner</th>\n",
       "      <th>mileage</th>\n",
       "      <th>engine</th>\n",
       "      <th>max_power</th>\n",
       "      <th>torque</th>\n",
       "      <th>seats</th>\n",
       "    </tr>\n",
       "  </thead>\n",
       "  <tbody>\n",
       "    <tr>\n",
       "      <th>0</th>\n",
       "      <td>Maruti Swift Dzire VDI</td>\n",
       "      <td>2014</td>\n",
       "      <td>450000</td>\n",
       "      <td>145500</td>\n",
       "      <td>Diesel</td>\n",
       "      <td>Individual</td>\n",
       "      <td>Manual</td>\n",
       "      <td>First Owner</td>\n",
       "      <td>23.4 kmpl</td>\n",
       "      <td>1248 CC</td>\n",
       "      <td>74 bhp</td>\n",
       "      <td>190Nm@ 2000rpm</td>\n",
       "      <td>5.0</td>\n",
       "    </tr>\n",
       "    <tr>\n",
       "      <th>1</th>\n",
       "      <td>Skoda Rapid 1.5 TDI Ambition</td>\n",
       "      <td>2014</td>\n",
       "      <td>370000</td>\n",
       "      <td>120000</td>\n",
       "      <td>Diesel</td>\n",
       "      <td>Individual</td>\n",
       "      <td>Manual</td>\n",
       "      <td>Second Owner</td>\n",
       "      <td>21.14 kmpl</td>\n",
       "      <td>1498 CC</td>\n",
       "      <td>103.52 bhp</td>\n",
       "      <td>250Nm@ 1500-2500rpm</td>\n",
       "      <td>5.0</td>\n",
       "    </tr>\n",
       "    <tr>\n",
       "      <th>2</th>\n",
       "      <td>Honda City 2017-2020 EXi</td>\n",
       "      <td>2006</td>\n",
       "      <td>158000</td>\n",
       "      <td>140000</td>\n",
       "      <td>Petrol</td>\n",
       "      <td>Individual</td>\n",
       "      <td>Manual</td>\n",
       "      <td>Third Owner</td>\n",
       "      <td>17.7 kmpl</td>\n",
       "      <td>1497 CC</td>\n",
       "      <td>78 bhp</td>\n",
       "      <td>12.7@ 2,700(kgm@ rpm)</td>\n",
       "      <td>5.0</td>\n",
       "    </tr>\n",
       "    <tr>\n",
       "      <th>3</th>\n",
       "      <td>Hyundai i20 Sportz Diesel</td>\n",
       "      <td>2010</td>\n",
       "      <td>225000</td>\n",
       "      <td>127000</td>\n",
       "      <td>Diesel</td>\n",
       "      <td>Individual</td>\n",
       "      <td>Manual</td>\n",
       "      <td>First Owner</td>\n",
       "      <td>23.0 kmpl</td>\n",
       "      <td>1396 CC</td>\n",
       "      <td>90 bhp</td>\n",
       "      <td>22.4 kgm at 1750-2750rpm</td>\n",
       "      <td>5.0</td>\n",
       "    </tr>\n",
       "    <tr>\n",
       "      <th>4</th>\n",
       "      <td>Maruti Swift VXI BSIII</td>\n",
       "      <td>2007</td>\n",
       "      <td>130000</td>\n",
       "      <td>120000</td>\n",
       "      <td>Petrol</td>\n",
       "      <td>Individual</td>\n",
       "      <td>Manual</td>\n",
       "      <td>First Owner</td>\n",
       "      <td>16.1 kmpl</td>\n",
       "      <td>1298 CC</td>\n",
       "      <td>88.2 bhp</td>\n",
       "      <td>11.5@ 4,500(kgm@ rpm)</td>\n",
       "      <td>5.0</td>\n",
       "    </tr>\n",
       "  </tbody>\n",
       "</table>\n",
       "</div>"
      ],
      "text/plain": [
       "                           name  year  selling_price  km_driven    fuel  \\\n",
       "0        Maruti Swift Dzire VDI  2014         450000     145500  Diesel   \n",
       "1  Skoda Rapid 1.5 TDI Ambition  2014         370000     120000  Diesel   \n",
       "2      Honda City 2017-2020 EXi  2006         158000     140000  Petrol   \n",
       "3     Hyundai i20 Sportz Diesel  2010         225000     127000  Diesel   \n",
       "4        Maruti Swift VXI BSIII  2007         130000     120000  Petrol   \n",
       "\n",
       "  seller_type transmission         owner     mileage   engine   max_power  \\\n",
       "0  Individual       Manual   First Owner   23.4 kmpl  1248 CC      74 bhp   \n",
       "1  Individual       Manual  Second Owner  21.14 kmpl  1498 CC  103.52 bhp   \n",
       "2  Individual       Manual   Third Owner   17.7 kmpl  1497 CC      78 bhp   \n",
       "3  Individual       Manual   First Owner   23.0 kmpl  1396 CC      90 bhp   \n",
       "4  Individual       Manual   First Owner   16.1 kmpl  1298 CC    88.2 bhp   \n",
       "\n",
       "                     torque  seats  \n",
       "0            190Nm@ 2000rpm    5.0  \n",
       "1       250Nm@ 1500-2500rpm    5.0  \n",
       "2     12.7@ 2,700(kgm@ rpm)    5.0  \n",
       "3  22.4 kgm at 1750-2750rpm    5.0  \n",
       "4     11.5@ 4,500(kgm@ rpm)    5.0  "
      ]
     },
     "execution_count": 265,
     "metadata": {},
     "output_type": "execute_result"
    }
   ],
   "source": [
    "df.head()"
   ]
  },
  {
   "cell_type": "code",
   "execution_count": 266,
   "id": "3722fcc6",
   "metadata": {},
   "outputs": [
    {
     "name": "stdout",
     "output_type": "stream",
     "text": [
      "<class 'pandas.core.frame.DataFrame'>\n",
      "RangeIndex: 8128 entries, 0 to 8127\n",
      "Data columns (total 13 columns):\n",
      " #   Column         Non-Null Count  Dtype  \n",
      "---  ------         --------------  -----  \n",
      " 0   name           8128 non-null   object \n",
      " 1   year           8128 non-null   int64  \n",
      " 2   selling_price  8128 non-null   int64  \n",
      " 3   km_driven      8128 non-null   int64  \n",
      " 4   fuel           8128 non-null   object \n",
      " 5   seller_type    8128 non-null   object \n",
      " 6   transmission   8128 non-null   object \n",
      " 7   owner          8128 non-null   object \n",
      " 8   mileage        7907 non-null   object \n",
      " 9   engine         7907 non-null   object \n",
      " 10  max_power      7913 non-null   object \n",
      " 11  torque         7906 non-null   object \n",
      " 12  seats          7907 non-null   float64\n",
      "dtypes: float64(1), int64(3), object(9)\n",
      "memory usage: 825.6+ KB\n"
     ]
    }
   ],
   "source": [
    "df.info()"
   ]
  },
  {
   "cell_type": "code",
   "execution_count": 267,
   "id": "698ea1e5",
   "metadata": {},
   "outputs": [
    {
     "data": {
      "text/html": [
       "<div>\n",
       "<style scoped>\n",
       "    .dataframe tbody tr th:only-of-type {\n",
       "        vertical-align: middle;\n",
       "    }\n",
       "\n",
       "    .dataframe tbody tr th {\n",
       "        vertical-align: top;\n",
       "    }\n",
       "\n",
       "    .dataframe thead th {\n",
       "        text-align: right;\n",
       "    }\n",
       "</style>\n",
       "<table border=\"1\" class=\"dataframe\">\n",
       "  <thead>\n",
       "    <tr style=\"text-align: right;\">\n",
       "      <th></th>\n",
       "      <th>year</th>\n",
       "      <th>selling_price</th>\n",
       "      <th>km_driven</th>\n",
       "      <th>seats</th>\n",
       "    </tr>\n",
       "  </thead>\n",
       "  <tbody>\n",
       "    <tr>\n",
       "      <th>count</th>\n",
       "      <td>8128.000000</td>\n",
       "      <td>8.128000e+03</td>\n",
       "      <td>8.128000e+03</td>\n",
       "      <td>7907.000000</td>\n",
       "    </tr>\n",
       "    <tr>\n",
       "      <th>mean</th>\n",
       "      <td>2013.804011</td>\n",
       "      <td>6.382718e+05</td>\n",
       "      <td>6.981951e+04</td>\n",
       "      <td>5.416719</td>\n",
       "    </tr>\n",
       "    <tr>\n",
       "      <th>std</th>\n",
       "      <td>4.044249</td>\n",
       "      <td>8.062534e+05</td>\n",
       "      <td>5.655055e+04</td>\n",
       "      <td>0.959588</td>\n",
       "    </tr>\n",
       "    <tr>\n",
       "      <th>min</th>\n",
       "      <td>1983.000000</td>\n",
       "      <td>2.999900e+04</td>\n",
       "      <td>1.000000e+00</td>\n",
       "      <td>2.000000</td>\n",
       "    </tr>\n",
       "    <tr>\n",
       "      <th>25%</th>\n",
       "      <td>2011.000000</td>\n",
       "      <td>2.549990e+05</td>\n",
       "      <td>3.500000e+04</td>\n",
       "      <td>5.000000</td>\n",
       "    </tr>\n",
       "    <tr>\n",
       "      <th>50%</th>\n",
       "      <td>2015.000000</td>\n",
       "      <td>4.500000e+05</td>\n",
       "      <td>6.000000e+04</td>\n",
       "      <td>5.000000</td>\n",
       "    </tr>\n",
       "    <tr>\n",
       "      <th>75%</th>\n",
       "      <td>2017.000000</td>\n",
       "      <td>6.750000e+05</td>\n",
       "      <td>9.800000e+04</td>\n",
       "      <td>5.000000</td>\n",
       "    </tr>\n",
       "    <tr>\n",
       "      <th>max</th>\n",
       "      <td>2020.000000</td>\n",
       "      <td>1.000000e+07</td>\n",
       "      <td>2.360457e+06</td>\n",
       "      <td>14.000000</td>\n",
       "    </tr>\n",
       "  </tbody>\n",
       "</table>\n",
       "</div>"
      ],
      "text/plain": [
       "              year  selling_price     km_driven        seats\n",
       "count  8128.000000   8.128000e+03  8.128000e+03  7907.000000\n",
       "mean   2013.804011   6.382718e+05  6.981951e+04     5.416719\n",
       "std       4.044249   8.062534e+05  5.655055e+04     0.959588\n",
       "min    1983.000000   2.999900e+04  1.000000e+00     2.000000\n",
       "25%    2011.000000   2.549990e+05  3.500000e+04     5.000000\n",
       "50%    2015.000000   4.500000e+05  6.000000e+04     5.000000\n",
       "75%    2017.000000   6.750000e+05  9.800000e+04     5.000000\n",
       "max    2020.000000   1.000000e+07  2.360457e+06    14.000000"
      ]
     },
     "execution_count": 267,
     "metadata": {},
     "output_type": "execute_result"
    }
   ],
   "source": [
    "df.describe()"
   ]
  },
  {
   "cell_type": "code",
   "execution_count": 268,
   "id": "a6913b70",
   "metadata": {},
   "outputs": [
    {
     "data": {
      "text/plain": [
       "RangeIndex(start=0, stop=8128, step=1)"
      ]
     },
     "execution_count": 268,
     "metadata": {},
     "output_type": "execute_result"
    }
   ],
   "source": [
    "df.index"
   ]
  },
  {
   "cell_type": "code",
   "execution_count": 269,
   "id": "fa3658fb",
   "metadata": {},
   "outputs": [
    {
     "data": {
      "text/plain": [
       "Index(['name', 'year', 'selling_price', 'km_driven', 'fuel', 'seller_type',\n",
       "       'transmission', 'owner', 'mileage', 'engine', 'max_power', 'torque',\n",
       "       'seats'],\n",
       "      dtype='object')"
      ]
     },
     "execution_count": 269,
     "metadata": {},
     "output_type": "execute_result"
    }
   ],
   "source": [
    "df.columns"
   ]
  },
  {
   "cell_type": "code",
   "execution_count": 270,
   "id": "b7d80be1",
   "metadata": {},
   "outputs": [
    {
     "data": {
      "text/plain": [
       "name               0\n",
       "year               0\n",
       "selling_price      0\n",
       "km_driven          0\n",
       "fuel               0\n",
       "seller_type        0\n",
       "transmission       0\n",
       "owner              0\n",
       "mileage          221\n",
       "engine           221\n",
       "max_power        215\n",
       "torque           222\n",
       "seats            221\n",
       "dtype: int64"
      ]
     },
     "execution_count": 270,
     "metadata": {},
     "output_type": "execute_result"
    }
   ],
   "source": [
    "df.isnull().sum()"
   ]
  },
  {
   "cell_type": "code",
   "execution_count": 271,
   "id": "5ad0c739",
   "metadata": {},
   "outputs": [
    {
     "data": {
      "text/plain": [
       "5.0"
      ]
     },
     "execution_count": 271,
     "metadata": {},
     "output_type": "execute_result"
    }
   ],
   "source": [
    "mdn = df['seats'].median()\n",
    "mdn"
   ]
  },
  {
   "cell_type": "code",
   "execution_count": 272,
   "id": "f1766622",
   "metadata": {},
   "outputs": [
    {
     "data": {
      "text/plain": [
       "221"
      ]
     },
     "execution_count": 272,
     "metadata": {},
     "output_type": "execute_result"
    }
   ],
   "source": [
    "df['seats'].isnull().sum()"
   ]
  },
  {
   "cell_type": "code",
   "execution_count": 273,
   "id": "a081679c",
   "metadata": {},
   "outputs": [],
   "source": [
    "df['seats'].fillna(mdn, inplace = True)"
   ]
  },
  {
   "cell_type": "code",
   "execution_count": 274,
   "id": "ae37bfb3",
   "metadata": {},
   "outputs": [
    {
     "data": {
      "text/plain": [
       "0"
      ]
     },
     "execution_count": 274,
     "metadata": {},
     "output_type": "execute_result"
    }
   ],
   "source": [
    "df['seats'].isnull().sum()"
   ]
  },
  {
   "cell_type": "code",
   "execution_count": 275,
   "id": "a13de4b5",
   "metadata": {},
   "outputs": [
    {
     "data": {
      "text/plain": [
       "5.405388779527559"
      ]
     },
     "execution_count": 275,
     "metadata": {},
     "output_type": "execute_result"
    }
   ],
   "source": [
    "df['seats'].mean()"
   ]
  },
  {
   "cell_type": "code",
   "execution_count": 276,
   "id": "6a09ce47",
   "metadata": {
    "scrolled": true
   },
   "outputs": [],
   "source": [
    "df.dropna(inplace = True)"
   ]
  },
  {
   "cell_type": "code",
   "execution_count": 277,
   "id": "2811172b",
   "metadata": {},
   "outputs": [
    {
     "data": {
      "text/plain": [
       "name             0\n",
       "year             0\n",
       "selling_price    0\n",
       "km_driven        0\n",
       "fuel             0\n",
       "seller_type      0\n",
       "transmission     0\n",
       "owner            0\n",
       "mileage          0\n",
       "engine           0\n",
       "max_power        0\n",
       "torque           0\n",
       "seats            0\n",
       "dtype: int64"
      ]
     },
     "execution_count": 277,
     "metadata": {},
     "output_type": "execute_result"
    }
   ],
   "source": [
    "df.isnull().sum()"
   ]
  },
  {
   "cell_type": "code",
   "execution_count": 278,
   "id": "8f9106e7",
   "metadata": {},
   "outputs": [
    {
     "data": {
      "text/plain": [
       "(7906, 13)"
      ]
     },
     "execution_count": 278,
     "metadata": {},
     "output_type": "execute_result"
    }
   ],
   "source": [
    "df.shape"
   ]
  },
  {
   "cell_type": "code",
   "execution_count": 279,
   "id": "f8a226c9",
   "metadata": {},
   "outputs": [
    {
     "data": {
      "text/plain": [
       "<matplotlib.axes._subplots.AxesSubplot at 0x212bc459af0>"
      ]
     },
     "execution_count": 279,
     "metadata": {},
     "output_type": "execute_result"
    },
    {
     "data": {
      "image/png": "[encoded data removed]",
      "text/plain": [
       "<Figure size 432x288 with 2 Axes>"
      ]
     },
     "metadata": {
      "needs_background": "light"
     },
     "output_type": "display_data"
    }
   ],
   "source": [
    "sns.heatmap(df.isnull())"
   ]
  },
  {
   "cell_type": "code",
   "execution_count": 280,
   "id": "04dd0da0",
   "metadata": {},
   "outputs": [
    {
     "data": {
      "text/plain": [
       "<matplotlib.axes._subplots.AxesSubplot at 0x212bb9727f0>"
      ]
     },
     "execution_count": 280,
     "metadata": {},
     "output_type": "execute_result"
    },
    {
     "data": {
      "image/png": "[encoded data removed]",
      "text/plain": [
       "<Figure size 432x288 with 2 Axes>"
      ]
     },
     "metadata": {
      "needs_background": "light"
     },
     "output_type": "display_data"
    }
   ],
   "source": [
    "colors = ['#000099', '#ffff00'] # specify the colours - yellow is missing. blue is not missing.\n",
    "sns.heatmap(df.isnull(), cmap=sns.color_palette(colors))"
   ]
  },
  {
   "cell_type": "code",
   "execution_count": 281,
   "id": "900ddc31",
   "metadata": {},
   "outputs": [
    {
     "name": "stdout",
     "output_type": "stream",
     "text": [
      "name - 0.0%\n",
      "year - 0.0%\n",
      "selling_price - 0.0%\n",
      "km_driven - 0.0%\n",
      "fuel - 0.0%\n",
      "seller_type - 0.0%\n",
      "transmission - 0.0%\n",
      "owner - 0.0%\n",
      "mileage - 0.0%\n",
      "engine - 0.0%\n",
      "max_power - 0.0%\n",
      "torque - 0.0%\n",
      "seats - 0.0%\n"
     ]
    }
   ],
   "source": [
    "for col in df.columns:\n",
    "    cnt_missing = np.mean(df[col].isnull())\n",
    "    print('{} - {}%'.format(col, round(cnt_missing*100)))"
   ]
  },
  {
   "cell_type": "code",
   "execution_count": 282,
   "id": "529fd91e",
   "metadata": {},
   "outputs": [
    {
     "data": {
      "text/plain": [
       "0.0"
      ]
     },
     "execution_count": 282,
     "metadata": {},
     "output_type": "execute_result"
    }
   ],
   "source": [
    "df.mileage.isnull().mean()"
   ]
  },
  {
   "cell_type": "code",
   "execution_count": 283,
   "id": "5dc08e23",
   "metadata": {},
   "outputs": [
    {
     "data": {
      "text/html": [
       "<div>\n",
       "<style scoped>\n",
       "    .dataframe tbody tr th:only-of-type {\n",
       "        vertical-align: middle;\n",
       "    }\n",
       "\n",
       "    .dataframe tbody tr th {\n",
       "        vertical-align: top;\n",
       "    }\n",
       "\n",
       "    .dataframe thead th {\n",
       "        text-align: right;\n",
       "    }\n",
       "</style>\n",
       "<table border=\"1\" class=\"dataframe\">\n",
       "  <thead>\n",
       "    <tr style=\"text-align: right;\">\n",
       "      <th></th>\n",
       "      <th>name</th>\n",
       "      <th>year</th>\n",
       "      <th>selling_price</th>\n",
       "      <th>km_driven</th>\n",
       "      <th>fuel</th>\n",
       "      <th>seller_type</th>\n",
       "      <th>transmission</th>\n",
       "      <th>owner</th>\n",
       "      <th>mileage</th>\n",
       "      <th>engine</th>\n",
       "      <th>max_power</th>\n",
       "      <th>torque</th>\n",
       "      <th>seats</th>\n",
       "    </tr>\n",
       "  </thead>\n",
       "  <tbody>\n",
       "    <tr>\n",
       "      <th>0</th>\n",
       "      <td>Maruti Swift Dzire VDI</td>\n",
       "      <td>2014</td>\n",
       "      <td>450000</td>\n",
       "      <td>145500</td>\n",
       "      <td>Diesel</td>\n",
       "      <td>Individual</td>\n",
       "      <td>Manual</td>\n",
       "      <td>First Owner</td>\n",
       "      <td>23.4 kmpl</td>\n",
       "      <td>1248 CC</td>\n",
       "      <td>74 bhp</td>\n",
       "      <td>190Nm@ 2000rpm</td>\n",
       "      <td>5.0</td>\n",
       "    </tr>\n",
       "    <tr>\n",
       "      <th>1</th>\n",
       "      <td>Skoda Rapid 1.5 TDI Ambition</td>\n",
       "      <td>2014</td>\n",
       "      <td>370000</td>\n",
       "      <td>120000</td>\n",
       "      <td>Diesel</td>\n",
       "      <td>Individual</td>\n",
       "      <td>Manual</td>\n",
       "      <td>Second Owner</td>\n",
       "      <td>21.14 kmpl</td>\n",
       "      <td>1498 CC</td>\n",
       "      <td>103.52 bhp</td>\n",
       "      <td>250Nm@ 1500-2500rpm</td>\n",
       "      <td>5.0</td>\n",
       "    </tr>\n",
       "    <tr>\n",
       "      <th>2</th>\n",
       "      <td>Honda City 2017-2020 EXi</td>\n",
       "      <td>2006</td>\n",
       "      <td>158000</td>\n",
       "      <td>140000</td>\n",
       "      <td>Petrol</td>\n",
       "      <td>Individual</td>\n",
       "      <td>Manual</td>\n",
       "      <td>Third Owner</td>\n",
       "      <td>17.7 kmpl</td>\n",
       "      <td>1497 CC</td>\n",
       "      <td>78 bhp</td>\n",
       "      <td>12.7@ 2,700(kgm@ rpm)</td>\n",
       "      <td>5.0</td>\n",
       "    </tr>\n",
       "    <tr>\n",
       "      <th>3</th>\n",
       "      <td>Hyundai i20 Sportz Diesel</td>\n",
       "      <td>2010</td>\n",
       "      <td>225000</td>\n",
       "      <td>127000</td>\n",
       "      <td>Diesel</td>\n",
       "      <td>Individual</td>\n",
       "      <td>Manual</td>\n",
       "      <td>First Owner</td>\n",
       "      <td>23.0 kmpl</td>\n",
       "      <td>1396 CC</td>\n",
       "      <td>90 bhp</td>\n",
       "      <td>22.4 kgm at 1750-2750rpm</td>\n",
       "      <td>5.0</td>\n",
       "    </tr>\n",
       "    <tr>\n",
       "      <th>4</th>\n",
       "      <td>Maruti Swift VXI BSIII</td>\n",
       "      <td>2007</td>\n",
       "      <td>130000</td>\n",
       "      <td>120000</td>\n",
       "      <td>Petrol</td>\n",
       "      <td>Individual</td>\n",
       "      <td>Manual</td>\n",
       "      <td>First Owner</td>\n",
       "      <td>16.1 kmpl</td>\n",
       "      <td>1298 CC</td>\n",
       "      <td>88.2 bhp</td>\n",
       "      <td>11.5@ 4,500(kgm@ rpm)</td>\n",
       "      <td>5.0</td>\n",
       "    </tr>\n",
       "  </tbody>\n",
       "</table>\n",
       "</div>"
      ],
      "text/plain": [
       "                           name  year  selling_price  km_driven    fuel  \\\n",
       "0        Maruti Swift Dzire VDI  2014         450000     145500  Diesel   \n",
       "1  Skoda Rapid 1.5 TDI Ambition  2014         370000     120000  Diesel   \n",
       "2      Honda City 2017-2020 EXi  2006         158000     140000  Petrol   \n",
       "3     Hyundai i20 Sportz Diesel  2010         225000     127000  Diesel   \n",
       "4        Maruti Swift VXI BSIII  2007         130000     120000  Petrol   \n",
       "\n",
       "  seller_type transmission         owner     mileage   engine   max_power  \\\n",
       "0  Individual       Manual   First Owner   23.4 kmpl  1248 CC      74 bhp   \n",
       "1  Individual       Manual  Second Owner  21.14 kmpl  1498 CC  103.52 bhp   \n",
       "2  Individual       Manual   Third Owner   17.7 kmpl  1497 CC      78 bhp   \n",
       "3  Individual       Manual   First Owner   23.0 kmpl  1396 CC      90 bhp   \n",
       "4  Individual       Manual   First Owner   16.1 kmpl  1298 CC    88.2 bhp   \n",
       "\n",
       "                     torque  seats  \n",
       "0            190Nm@ 2000rpm    5.0  \n",
       "1       250Nm@ 1500-2500rpm    5.0  \n",
       "2     12.7@ 2,700(kgm@ rpm)    5.0  \n",
       "3  22.4 kgm at 1750-2750rpm    5.0  \n",
       "4     11.5@ 4,500(kgm@ rpm)    5.0  "
      ]
     },
     "execution_count": 283,
     "metadata": {},
     "output_type": "execute_result"
    }
   ],
   "source": [
    "df.head()"
   ]
  },
  {
   "cell_type": "code",
   "execution_count": 284,
   "id": "bc67e411",
   "metadata": {},
   "outputs": [
    {
     "data": {
      "text/plain": [
       "<matplotlib.axes._subplots.AxesSubplot at 0x212c2a61f10>"
      ]
     },
     "execution_count": 284,
     "metadata": {},
     "output_type": "execute_result"
    },
    {
     "data": {
      "image/png": "[encoded data removed]",
      "text/plain": [
       "<Figure size 432x288 with 2 Axes>"
      ]
     },
     "metadata": {
      "needs_background": "light"
     },
     "output_type": "display_data"
    }
   ],
   "source": [
    "sns.heatmap(df.isnull())"
   ]
  },
  {
   "cell_type": "code",
   "execution_count": 320,
   "id": "00bacbcf",
   "metadata": {},
   "outputs": [
    {
     "data": {
      "text/plain": [
       "Diesel    4299\n",
       "Petrol    3520\n",
       "CNG         52\n",
       "LPG         35\n",
       "Name: fuel, dtype: int64"
      ]
     },
     "execution_count": 320,
     "metadata": {},
     "output_type": "execute_result"
    }
   ],
   "source": [
    "df['fuel'].value_counts()"
   ]
  },
  {
   "cell_type": "code",
   "execution_count": 286,
   "id": "f4399144",
   "metadata": {},
   "outputs": [
    {
     "data": {
      "text/plain": [
       "array(['Individual', 'Dealer', 'Trustmark Dealer'], dtype=object)"
      ]
     },
     "execution_count": 286,
     "metadata": {},
     "output_type": "execute_result"
    }
   ],
   "source": [
    "df['seller_type'].unique()"
   ]
  },
  {
   "cell_type": "code",
   "execution_count": 287,
   "id": "0550b5cb",
   "metadata": {},
   "outputs": [
    {
     "data": {
      "text/plain": [
       "array(['Manual', 'Automatic'], dtype=object)"
      ]
     },
     "execution_count": 287,
     "metadata": {},
     "output_type": "execute_result"
    }
   ],
   "source": [
    "df['transmission'].unique()"
   ]
  },
  {
   "cell_type": "code",
   "execution_count": 288,
   "id": "8aa3385b",
   "metadata": {},
   "outputs": [
    {
     "data": {
      "text/plain": [
       "array(['First Owner', 'Second Owner', 'Third Owner',\n",
       "       'Fourth & Above Owner', 'Test Drive Car'], dtype=object)"
      ]
     },
     "execution_count": 288,
     "metadata": {},
     "output_type": "execute_result"
    }
   ],
   "source": [
    "df['owner'].unique()"
   ]
  },
  {
   "cell_type": "code",
   "execution_count": 289,
   "id": "f53cebc8",
   "metadata": {},
   "outputs": [],
   "source": [
    "fuel_d = pd.get_dummies(df.fuel, drop_first = True)"
   ]
  },
  {
   "cell_type": "code",
   "execution_count": 290,
   "id": "5d803807",
   "metadata": {},
   "outputs": [
    {
     "data": {
      "text/html": [
       "<div>\n",
       "<style scoped>\n",
       "    .dataframe tbody tr th:only-of-type {\n",
       "        vertical-align: middle;\n",
       "    }\n",
       "\n",
       "    .dataframe tbody tr th {\n",
       "        vertical-align: top;\n",
       "    }\n",
       "\n",
       "    .dataframe thead th {\n",
       "        text-align: right;\n",
       "    }\n",
       "</style>\n",
       "<table border=\"1\" class=\"dataframe\">\n",
       "  <thead>\n",
       "    <tr style=\"text-align: right;\">\n",
       "      <th></th>\n",
       "      <th>Diesel</th>\n",
       "      <th>LPG</th>\n",
       "      <th>Petrol</th>\n",
       "    </tr>\n",
       "  </thead>\n",
       "  <tbody>\n",
       "    <tr>\n",
       "      <th>0</th>\n",
       "      <td>1</td>\n",
       "      <td>0</td>\n",
       "      <td>0</td>\n",
       "    </tr>\n",
       "    <tr>\n",
       "      <th>1</th>\n",
       "      <td>1</td>\n",
       "      <td>0</td>\n",
       "      <td>0</td>\n",
       "    </tr>\n",
       "    <tr>\n",
       "      <th>2</th>\n",
       "      <td>0</td>\n",
       "      <td>0</td>\n",
       "      <td>1</td>\n",
       "    </tr>\n",
       "    <tr>\n",
       "      <th>3</th>\n",
       "      <td>1</td>\n",
       "      <td>0</td>\n",
       "      <td>0</td>\n",
       "    </tr>\n",
       "    <tr>\n",
       "      <th>4</th>\n",
       "      <td>0</td>\n",
       "      <td>0</td>\n",
       "      <td>1</td>\n",
       "    </tr>\n",
       "    <tr>\n",
       "      <th>...</th>\n",
       "      <td>...</td>\n",
       "      <td>...</td>\n",
       "      <td>...</td>\n",
       "    </tr>\n",
       "    <tr>\n",
       "      <th>8123</th>\n",
       "      <td>0</td>\n",
       "      <td>0</td>\n",
       "      <td>1</td>\n",
       "    </tr>\n",
       "    <tr>\n",
       "      <th>8124</th>\n",
       "      <td>1</td>\n",
       "      <td>0</td>\n",
       "      <td>0</td>\n",
       "    </tr>\n",
       "    <tr>\n",
       "      <th>8125</th>\n",
       "      <td>1</td>\n",
       "      <td>0</td>\n",
       "      <td>0</td>\n",
       "    </tr>\n",
       "    <tr>\n",
       "      <th>8126</th>\n",
       "      <td>1</td>\n",
       "      <td>0</td>\n",
       "      <td>0</td>\n",
       "    </tr>\n",
       "    <tr>\n",
       "      <th>8127</th>\n",
       "      <td>1</td>\n",
       "      <td>0</td>\n",
       "      <td>0</td>\n",
       "    </tr>\n",
       "  </tbody>\n",
       "</table>\n",
       "<p>7906 rows × 3 columns</p>\n",
       "</div>"
      ],
      "text/plain": [
       "      Diesel  LPG  Petrol\n",
       "0          1    0       0\n",
       "1          1    0       0\n",
       "2          0    0       1\n",
       "3          1    0       0\n",
       "4          0    0       1\n",
       "...      ...  ...     ...\n",
       "8123       0    0       1\n",
       "8124       1    0       0\n",
       "8125       1    0       0\n",
       "8126       1    0       0\n",
       "8127       1    0       0\n",
       "\n",
       "[7906 rows x 3 columns]"
      ]
     },
     "execution_count": 290,
     "metadata": {},
     "output_type": "execute_result"
    }
   ],
   "source": [
    "fuel_d"
   ]
  },
  {
   "cell_type": "code",
   "execution_count": 291,
   "id": "92d19566",
   "metadata": {},
   "outputs": [],
   "source": [
    "transmission_d = pd.get_dummies(df.transmission, drop_first = True)"
   ]
  },
  {
   "cell_type": "code",
   "execution_count": 292,
   "id": "85b17905",
   "metadata": {},
   "outputs": [],
   "source": [
    "seller_type_d = pd.get_dummies(df.seller_type, drop_first = True)"
   ]
  },
  {
   "cell_type": "code",
   "execution_count": 293,
   "id": "21c6365c",
   "metadata": {},
   "outputs": [],
   "source": [
    "owner_d = pd.get_dummies(df.owner, drop_first = True)"
   ]
  },
  {
   "cell_type": "code",
   "execution_count": 294,
   "id": "27e3d979",
   "metadata": {},
   "outputs": [
    {
     "data": {
      "text/html": [
       "<div>\n",
       "<style scoped>\n",
       "    .dataframe tbody tr th:only-of-type {\n",
       "        vertical-align: middle;\n",
       "    }\n",
       "\n",
       "    .dataframe tbody tr th {\n",
       "        vertical-align: top;\n",
       "    }\n",
       "\n",
       "    .dataframe thead th {\n",
       "        text-align: right;\n",
       "    }\n",
       "</style>\n",
       "<table border=\"1\" class=\"dataframe\">\n",
       "  <thead>\n",
       "    <tr style=\"text-align: right;\">\n",
       "      <th></th>\n",
       "      <th>Fourth &amp; Above Owner</th>\n",
       "      <th>Second Owner</th>\n",
       "      <th>Test Drive Car</th>\n",
       "      <th>Third Owner</th>\n",
       "    </tr>\n",
       "  </thead>\n",
       "  <tbody>\n",
       "    <tr>\n",
       "      <th>0</th>\n",
       "      <td>0</td>\n",
       "      <td>0</td>\n",
       "      <td>0</td>\n",
       "      <td>0</td>\n",
       "    </tr>\n",
       "    <tr>\n",
       "      <th>1</th>\n",
       "      <td>0</td>\n",
       "      <td>1</td>\n",
       "      <td>0</td>\n",
       "      <td>0</td>\n",
       "    </tr>\n",
       "    <tr>\n",
       "      <th>2</th>\n",
       "      <td>0</td>\n",
       "      <td>0</td>\n",
       "      <td>0</td>\n",
       "      <td>1</td>\n",
       "    </tr>\n",
       "    <tr>\n",
       "      <th>3</th>\n",
       "      <td>0</td>\n",
       "      <td>0</td>\n",
       "      <td>0</td>\n",
       "      <td>0</td>\n",
       "    </tr>\n",
       "    <tr>\n",
       "      <th>4</th>\n",
       "      <td>0</td>\n",
       "      <td>0</td>\n",
       "      <td>0</td>\n",
       "      <td>0</td>\n",
       "    </tr>\n",
       "    <tr>\n",
       "      <th>...</th>\n",
       "      <td>...</td>\n",
       "      <td>...</td>\n",
       "      <td>...</td>\n",
       "      <td>...</td>\n",
       "    </tr>\n",
       "    <tr>\n",
       "      <th>8123</th>\n",
       "      <td>0</td>\n",
       "      <td>0</td>\n",
       "      <td>0</td>\n",
       "      <td>0</td>\n",
       "    </tr>\n",
       "    <tr>\n",
       "      <th>8124</th>\n",
       "      <td>1</td>\n",
       "      <td>0</td>\n",
       "      <td>0</td>\n",
       "      <td>0</td>\n",
       "    </tr>\n",
       "    <tr>\n",
       "      <th>8125</th>\n",
       "      <td>0</td>\n",
       "      <td>0</td>\n",
       "      <td>0</td>\n",
       "      <td>0</td>\n",
       "    </tr>\n",
       "    <tr>\n",
       "      <th>8126</th>\n",
       "      <td>0</td>\n",
       "      <td>0</td>\n",
       "      <td>0</td>\n",
       "      <td>0</td>\n",
       "    </tr>\n",
       "    <tr>\n",
       "      <th>8127</th>\n",
       "      <td>0</td>\n",
       "      <td>0</td>\n",
       "      <td>0</td>\n",
       "      <td>0</td>\n",
       "    </tr>\n",
       "  </tbody>\n",
       "</table>\n",
       "<p>7906 rows × 4 columns</p>\n",
       "</div>"
      ],
      "text/plain": [
       "      Fourth & Above Owner  Second Owner  Test Drive Car  Third Owner\n",
       "0                        0             0               0            0\n",
       "1                        0             1               0            0\n",
       "2                        0             0               0            1\n",
       "3                        0             0               0            0\n",
       "4                        0             0               0            0\n",
       "...                    ...           ...             ...          ...\n",
       "8123                     0             0               0            0\n",
       "8124                     1             0               0            0\n",
       "8125                     0             0               0            0\n",
       "8126                     0             0               0            0\n",
       "8127                     0             0               0            0\n",
       "\n",
       "[7906 rows x 4 columns]"
      ]
     },
     "execution_count": 294,
     "metadata": {},
     "output_type": "execute_result"
    }
   ],
   "source": [
    "owner_d"
   ]
  },
  {
   "cell_type": "code",
   "execution_count": 295,
   "id": "ab1823c7",
   "metadata": {},
   "outputs": [],
   "source": [
    "df1 = pd.concat([df, fuel_d, transmission_d, seller_type_d, owner_d], axis = 1)"
   ]
  },
  {
   "cell_type": "code",
   "execution_count": 296,
   "id": "c05dbc88",
   "metadata": {
    "scrolled": true
   },
   "outputs": [
    {
     "data": {
      "text/html": [
       "<div>\n",
       "<style scoped>\n",
       "    .dataframe tbody tr th:only-of-type {\n",
       "        vertical-align: middle;\n",
       "    }\n",
       "\n",
       "    .dataframe tbody tr th {\n",
       "        vertical-align: top;\n",
       "    }\n",
       "\n",
       "    .dataframe thead th {\n",
       "        text-align: right;\n",
       "    }\n",
       "</style>\n",
       "<table border=\"1\" class=\"dataframe\">\n",
       "  <thead>\n",
       "    <tr style=\"text-align: right;\">\n",
       "      <th></th>\n",
       "      <th>name</th>\n",
       "      <th>year</th>\n",
       "      <th>selling_price</th>\n",
       "      <th>km_driven</th>\n",
       "      <th>fuel</th>\n",
       "      <th>seller_type</th>\n",
       "      <th>transmission</th>\n",
       "      <th>owner</th>\n",
       "      <th>mileage</th>\n",
       "      <th>engine</th>\n",
       "      <th>...</th>\n",
       "      <th>Diesel</th>\n",
       "      <th>LPG</th>\n",
       "      <th>Petrol</th>\n",
       "      <th>Manual</th>\n",
       "      <th>Individual</th>\n",
       "      <th>Trustmark Dealer</th>\n",
       "      <th>Fourth &amp; Above Owner</th>\n",
       "      <th>Second Owner</th>\n",
       "      <th>Test Drive Car</th>\n",
       "      <th>Third Owner</th>\n",
       "    </tr>\n",
       "  </thead>\n",
       "  <tbody>\n",
       "    <tr>\n",
       "      <th>0</th>\n",
       "      <td>Maruti Swift Dzire VDI</td>\n",
       "      <td>2014</td>\n",
       "      <td>450000</td>\n",
       "      <td>145500</td>\n",
       "      <td>Diesel</td>\n",
       "      <td>Individual</td>\n",
       "      <td>Manual</td>\n",
       "      <td>First Owner</td>\n",
       "      <td>23.4 kmpl</td>\n",
       "      <td>1248 CC</td>\n",
       "      <td>...</td>\n",
       "      <td>1</td>\n",
       "      <td>0</td>\n",
       "      <td>0</td>\n",
       "      <td>1</td>\n",
       "      <td>1</td>\n",
       "      <td>0</td>\n",
       "      <td>0</td>\n",
       "      <td>0</td>\n",
       "      <td>0</td>\n",
       "      <td>0</td>\n",
       "    </tr>\n",
       "    <tr>\n",
       "      <th>1</th>\n",
       "      <td>Skoda Rapid 1.5 TDI Ambition</td>\n",
       "      <td>2014</td>\n",
       "      <td>370000</td>\n",
       "      <td>120000</td>\n",
       "      <td>Diesel</td>\n",
       "      <td>Individual</td>\n",
       "      <td>Manual</td>\n",
       "      <td>Second Owner</td>\n",
       "      <td>21.14 kmpl</td>\n",
       "      <td>1498 CC</td>\n",
       "      <td>...</td>\n",
       "      <td>1</td>\n",
       "      <td>0</td>\n",
       "      <td>0</td>\n",
       "      <td>1</td>\n",
       "      <td>1</td>\n",
       "      <td>0</td>\n",
       "      <td>0</td>\n",
       "      <td>1</td>\n",
       "      <td>0</td>\n",
       "      <td>0</td>\n",
       "    </tr>\n",
       "    <tr>\n",
       "      <th>2</th>\n",
       "      <td>Honda City 2017-2020 EXi</td>\n",
       "      <td>2006</td>\n",
       "      <td>158000</td>\n",
       "      <td>140000</td>\n",
       "      <td>Petrol</td>\n",
       "      <td>Individual</td>\n",
       "      <td>Manual</td>\n",
       "      <td>Third Owner</td>\n",
       "      <td>17.7 kmpl</td>\n",
       "      <td>1497 CC</td>\n",
       "      <td>...</td>\n",
       "      <td>0</td>\n",
       "      <td>0</td>\n",
       "      <td>1</td>\n",
       "      <td>1</td>\n",
       "      <td>1</td>\n",
       "      <td>0</td>\n",
       "      <td>0</td>\n",
       "      <td>0</td>\n",
       "      <td>0</td>\n",
       "      <td>1</td>\n",
       "    </tr>\n",
       "    <tr>\n",
       "      <th>3</th>\n",
       "      <td>Hyundai i20 Sportz Diesel</td>\n",
       "      <td>2010</td>\n",
       "      <td>225000</td>\n",
       "      <td>127000</td>\n",
       "      <td>Diesel</td>\n",
       "      <td>Individual</td>\n",
       "      <td>Manual</td>\n",
       "      <td>First Owner</td>\n",
       "      <td>23.0 kmpl</td>\n",
       "      <td>1396 CC</td>\n",
       "      <td>...</td>\n",
       "      <td>1</td>\n",
       "      <td>0</td>\n",
       "      <td>0</td>\n",
       "      <td>1</td>\n",
       "      <td>1</td>\n",
       "      <td>0</td>\n",
       "      <td>0</td>\n",
       "      <td>0</td>\n",
       "      <td>0</td>\n",
       "      <td>0</td>\n",
       "    </tr>\n",
       "    <tr>\n",
       "      <th>4</th>\n",
       "      <td>Maruti Swift VXI BSIII</td>\n",
       "      <td>2007</td>\n",
       "      <td>130000</td>\n",
       "      <td>120000</td>\n",
       "      <td>Petrol</td>\n",
       "      <td>Individual</td>\n",
       "      <td>Manual</td>\n",
       "      <td>First Owner</td>\n",
       "      <td>16.1 kmpl</td>\n",
       "      <td>1298 CC</td>\n",
       "      <td>...</td>\n",
       "      <td>0</td>\n",
       "      <td>0</td>\n",
       "      <td>1</td>\n",
       "      <td>1</td>\n",
       "      <td>1</td>\n",
       "      <td>0</td>\n",
       "      <td>0</td>\n",
       "      <td>0</td>\n",
       "      <td>0</td>\n",
       "      <td>0</td>\n",
       "    </tr>\n",
       "    <tr>\n",
       "      <th>...</th>\n",
       "      <td>...</td>\n",
       "      <td>...</td>\n",
       "      <td>...</td>\n",
       "      <td>...</td>\n",
       "      <td>...</td>\n",
       "      <td>...</td>\n",
       "      <td>...</td>\n",
       "      <td>...</td>\n",
       "      <td>...</td>\n",
       "      <td>...</td>\n",
       "      <td>...</td>\n",
       "      <td>...</td>\n",
       "      <td>...</td>\n",
       "      <td>...</td>\n",
       "      <td>...</td>\n",
       "      <td>...</td>\n",
       "      <td>...</td>\n",
       "      <td>...</td>\n",
       "      <td>...</td>\n",
       "      <td>...</td>\n",
       "      <td>...</td>\n",
       "    </tr>\n",
       "    <tr>\n",
       "      <th>8123</th>\n",
       "      <td>Hyundai i20 Magna</td>\n",
       "      <td>2013</td>\n",
       "      <td>320000</td>\n",
       "      <td>110000</td>\n",
       "      <td>Petrol</td>\n",
       "      <td>Individual</td>\n",
       "      <td>Manual</td>\n",
       "      <td>First Owner</td>\n",
       "      <td>18.5 kmpl</td>\n",
       "      <td>1197 CC</td>\n",
       "      <td>...</td>\n",
       "      <td>0</td>\n",
       "      <td>0</td>\n",
       "      <td>1</td>\n",
       "      <td>1</td>\n",
       "      <td>1</td>\n",
       "      <td>0</td>\n",
       "      <td>0</td>\n",
       "      <td>0</td>\n",
       "      <td>0</td>\n",
       "      <td>0</td>\n",
       "    </tr>\n",
       "    <tr>\n",
       "      <th>8124</th>\n",
       "      <td>Hyundai Verna CRDi SX</td>\n",
       "      <td>2007</td>\n",
       "      <td>135000</td>\n",
       "      <td>119000</td>\n",
       "      <td>Diesel</td>\n",
       "      <td>Individual</td>\n",
       "      <td>Manual</td>\n",
       "      <td>Fourth &amp; Above Owner</td>\n",
       "      <td>16.8 kmpl</td>\n",
       "      <td>1493 CC</td>\n",
       "      <td>...</td>\n",
       "      <td>1</td>\n",
       "      <td>0</td>\n",
       "      <td>0</td>\n",
       "      <td>1</td>\n",
       "      <td>1</td>\n",
       "      <td>0</td>\n",
       "      <td>1</td>\n",
       "      <td>0</td>\n",
       "      <td>0</td>\n",
       "      <td>0</td>\n",
       "    </tr>\n",
       "    <tr>\n",
       "      <th>8125</th>\n",
       "      <td>Maruti Swift Dzire ZDi</td>\n",
       "      <td>2009</td>\n",
       "      <td>382000</td>\n",
       "      <td>120000</td>\n",
       "      <td>Diesel</td>\n",
       "      <td>Individual</td>\n",
       "      <td>Manual</td>\n",
       "      <td>First Owner</td>\n",
       "      <td>19.3 kmpl</td>\n",
       "      <td>1248 CC</td>\n",
       "      <td>...</td>\n",
       "      <td>1</td>\n",
       "      <td>0</td>\n",
       "      <td>0</td>\n",
       "      <td>1</td>\n",
       "      <td>1</td>\n",
       "      <td>0</td>\n",
       "      <td>0</td>\n",
       "      <td>0</td>\n",
       "      <td>0</td>\n",
       "      <td>0</td>\n",
       "    </tr>\n",
       "    <tr>\n",
       "      <th>8126</th>\n",
       "      <td>Tata Indigo CR4</td>\n",
       "      <td>2013</td>\n",
       "      <td>290000</td>\n",
       "      <td>25000</td>\n",
       "      <td>Diesel</td>\n",
       "      <td>Individual</td>\n",
       "      <td>Manual</td>\n",
       "      <td>First Owner</td>\n",
       "      <td>23.57 kmpl</td>\n",
       "      <td>1396 CC</td>\n",
       "      <td>...</td>\n",
       "      <td>1</td>\n",
       "      <td>0</td>\n",
       "      <td>0</td>\n",
       "      <td>1</td>\n",
       "      <td>1</td>\n",
       "      <td>0</td>\n",
       "      <td>0</td>\n",
       "      <td>0</td>\n",
       "      <td>0</td>\n",
       "      <td>0</td>\n",
       "    </tr>\n",
       "    <tr>\n",
       "      <th>8127</th>\n",
       "      <td>Tata Indigo CR4</td>\n",
       "      <td>2013</td>\n",
       "      <td>290000</td>\n",
       "      <td>25000</td>\n",
       "      <td>Diesel</td>\n",
       "      <td>Individual</td>\n",
       "      <td>Manual</td>\n",
       "      <td>First Owner</td>\n",
       "      <td>23.57 kmpl</td>\n",
       "      <td>1396 CC</td>\n",
       "      <td>...</td>\n",
       "      <td>1</td>\n",
       "      <td>0</td>\n",
       "      <td>0</td>\n",
       "      <td>1</td>\n",
       "      <td>1</td>\n",
       "      <td>0</td>\n",
       "      <td>0</td>\n",
       "      <td>0</td>\n",
       "      <td>0</td>\n",
       "      <td>0</td>\n",
       "    </tr>\n",
       "  </tbody>\n",
       "</table>\n",
       "<p>7906 rows × 23 columns</p>\n",
       "</div>"
      ],
      "text/plain": [
       "                              name  year  selling_price  km_driven    fuel  \\\n",
       "0           Maruti Swift Dzire VDI  2014         450000     145500  Diesel   \n",
       "1     Skoda Rapid 1.5 TDI Ambition  2014         370000     120000  Diesel   \n",
       "2         Honda City 2017-2020 EXi  2006         158000     140000  Petrol   \n",
       "3        Hyundai i20 Sportz Diesel  2010         225000     127000  Diesel   \n",
       "4           Maruti Swift VXI BSIII  2007         130000     120000  Petrol   \n",
       "...                            ...   ...            ...        ...     ...   \n",
       "8123             Hyundai i20 Magna  2013         320000     110000  Petrol   \n",
       "8124         Hyundai Verna CRDi SX  2007         135000     119000  Diesel   \n",
       "8125        Maruti Swift Dzire ZDi  2009         382000     120000  Diesel   \n",
       "8126               Tata Indigo CR4  2013         290000      25000  Diesel   \n",
       "8127               Tata Indigo CR4  2013         290000      25000  Diesel   \n",
       "\n",
       "     seller_type transmission                 owner     mileage   engine  ...  \\\n",
       "0     Individual       Manual           First Owner   23.4 kmpl  1248 CC  ...   \n",
       "1     Individual       Manual          Second Owner  21.14 kmpl  1498 CC  ...   \n",
       "2     Individual       Manual           Third Owner   17.7 kmpl  1497 CC  ...   \n",
       "3     Individual       Manual           First Owner   23.0 kmpl  1396 CC  ...   \n",
       "4     Individual       Manual           First Owner   16.1 kmpl  1298 CC  ...   \n",
       "...          ...          ...                   ...         ...      ...  ...   \n",
       "8123  Individual       Manual           First Owner   18.5 kmpl  1197 CC  ...   \n",
       "8124  Individual       Manual  Fourth & Above Owner   16.8 kmpl  1493 CC  ...   \n",
       "8125  Individual       Manual           First Owner   19.3 kmpl  1248 CC  ...   \n",
       "8126  Individual       Manual           First Owner  23.57 kmpl  1396 CC  ...   \n",
       "8127  Individual       Manual           First Owner  23.57 kmpl  1396 CC  ...   \n",
       "\n",
       "     Diesel LPG  Petrol  Manual  Individual  Trustmark Dealer  \\\n",
       "0         1   0       0       1           1                 0   \n",
       "1         1   0       0       1           1                 0   \n",
       "2         0   0       1       1           1                 0   \n",
       "3         1   0       0       1           1                 0   \n",
       "4         0   0       1       1           1                 0   \n",
       "...     ...  ..     ...     ...         ...               ...   \n",
       "8123      0   0       1       1           1                 0   \n",
       "8124      1   0       0       1           1                 0   \n",
       "8125      1   0       0       1           1                 0   \n",
       "8126      1   0       0       1           1                 0   \n",
       "8127      1   0       0       1           1                 0   \n",
       "\n",
       "      Fourth & Above Owner  Second Owner  Test Drive Car  Third Owner  \n",
       "0                        0             0               0            0  \n",
       "1                        0             1               0            0  \n",
       "2                        0             0               0            1  \n",
       "3                        0             0               0            0  \n",
       "4                        0             0               0            0  \n",
       "...                    ...           ...             ...          ...  \n",
       "8123                     0             0               0            0  \n",
       "8124                     1             0               0            0  \n",
       "8125                     0             0               0            0  \n",
       "8126                     0             0               0            0  \n",
       "8127                     0             0               0            0  \n",
       "\n",
       "[7906 rows x 23 columns]"
      ]
     },
     "execution_count": 296,
     "metadata": {},
     "output_type": "execute_result"
    }
   ],
   "source": [
    "df1"
   ]
  },
  {
   "cell_type": "code",
   "execution_count": 297,
   "id": "21522bae",
   "metadata": {},
   "outputs": [
    {
     "data": {
      "text/plain": [
       "<matplotlib.axes._subplots.AxesSubplot at 0x212c2e50d30>"
      ]
     },
     "execution_count": 297,
     "metadata": {},
     "output_type": "execute_result"
    },
    {
     "data": {
      "image/png": "[encoded data removed]",
      "text/plain": [
       "<Figure size 432x288 with 2 Axes>"
      ]
     },
     "metadata": {
      "needs_background": "light"
     },
     "output_type": "display_data"
    }
   ],
   "source": [
    "sns.heatmap(df.corr(), annot = True)"
   ]
  },
  {
   "cell_type": "code",
   "execution_count": 298,
   "id": "ee255965",
   "metadata": {},
   "outputs": [
    {
     "data": {
      "text/html": [
       "<div>\n",
       "<style scoped>\n",
       "    .dataframe tbody tr th:only-of-type {\n",
       "        vertical-align: middle;\n",
       "    }\n",
       "\n",
       "    .dataframe tbody tr th {\n",
       "        vertical-align: top;\n",
       "    }\n",
       "\n",
       "    .dataframe thead th {\n",
       "        text-align: right;\n",
       "    }\n",
       "</style>\n",
       "<table border=\"1\" class=\"dataframe\">\n",
       "  <thead>\n",
       "    <tr style=\"text-align: right;\">\n",
       "      <th></th>\n",
       "      <th>name</th>\n",
       "      <th>year</th>\n",
       "      <th>selling_price</th>\n",
       "      <th>km_driven</th>\n",
       "      <th>fuel</th>\n",
       "      <th>seller_type</th>\n",
       "      <th>transmission</th>\n",
       "      <th>owner</th>\n",
       "      <th>mileage</th>\n",
       "      <th>engine</th>\n",
       "      <th>...</th>\n",
       "      <th>Diesel</th>\n",
       "      <th>LPG</th>\n",
       "      <th>Petrol</th>\n",
       "      <th>Manual</th>\n",
       "      <th>Individual</th>\n",
       "      <th>Trustmark Dealer</th>\n",
       "      <th>Fourth &amp; Above Owner</th>\n",
       "      <th>Second Owner</th>\n",
       "      <th>Test Drive Car</th>\n",
       "      <th>Third Owner</th>\n",
       "    </tr>\n",
       "  </thead>\n",
       "  <tbody>\n",
       "    <tr>\n",
       "      <th>0</th>\n",
       "      <td>Maruti Swift Dzire VDI</td>\n",
       "      <td>2014</td>\n",
       "      <td>450000</td>\n",
       "      <td>145500</td>\n",
       "      <td>Diesel</td>\n",
       "      <td>Individual</td>\n",
       "      <td>Manual</td>\n",
       "      <td>First Owner</td>\n",
       "      <td>23.4 kmpl</td>\n",
       "      <td>1248 CC</td>\n",
       "      <td>...</td>\n",
       "      <td>1</td>\n",
       "      <td>0</td>\n",
       "      <td>0</td>\n",
       "      <td>1</td>\n",
       "      <td>1</td>\n",
       "      <td>0</td>\n",
       "      <td>0</td>\n",
       "      <td>0</td>\n",
       "      <td>0</td>\n",
       "      <td>0</td>\n",
       "    </tr>\n",
       "    <tr>\n",
       "      <th>1</th>\n",
       "      <td>Skoda Rapid 1.5 TDI Ambition</td>\n",
       "      <td>2014</td>\n",
       "      <td>370000</td>\n",
       "      <td>120000</td>\n",
       "      <td>Diesel</td>\n",
       "      <td>Individual</td>\n",
       "      <td>Manual</td>\n",
       "      <td>Second Owner</td>\n",
       "      <td>21.14 kmpl</td>\n",
       "      <td>1498 CC</td>\n",
       "      <td>...</td>\n",
       "      <td>1</td>\n",
       "      <td>0</td>\n",
       "      <td>0</td>\n",
       "      <td>1</td>\n",
       "      <td>1</td>\n",
       "      <td>0</td>\n",
       "      <td>0</td>\n",
       "      <td>1</td>\n",
       "      <td>0</td>\n",
       "      <td>0</td>\n",
       "    </tr>\n",
       "    <tr>\n",
       "      <th>2</th>\n",
       "      <td>Honda City 2017-2020 EXi</td>\n",
       "      <td>2006</td>\n",
       "      <td>158000</td>\n",
       "      <td>140000</td>\n",
       "      <td>Petrol</td>\n",
       "      <td>Individual</td>\n",
       "      <td>Manual</td>\n",
       "      <td>Third Owner</td>\n",
       "      <td>17.7 kmpl</td>\n",
       "      <td>1497 CC</td>\n",
       "      <td>...</td>\n",
       "      <td>0</td>\n",
       "      <td>0</td>\n",
       "      <td>1</td>\n",
       "      <td>1</td>\n",
       "      <td>1</td>\n",
       "      <td>0</td>\n",
       "      <td>0</td>\n",
       "      <td>0</td>\n",
       "      <td>0</td>\n",
       "      <td>1</td>\n",
       "    </tr>\n",
       "    <tr>\n",
       "      <th>3</th>\n",
       "      <td>Hyundai i20 Sportz Diesel</td>\n",
       "      <td>2010</td>\n",
       "      <td>225000</td>\n",
       "      <td>127000</td>\n",
       "      <td>Diesel</td>\n",
       "      <td>Individual</td>\n",
       "      <td>Manual</td>\n",
       "      <td>First Owner</td>\n",
       "      <td>23.0 kmpl</td>\n",
       "      <td>1396 CC</td>\n",
       "      <td>...</td>\n",
       "      <td>1</td>\n",
       "      <td>0</td>\n",
       "      <td>0</td>\n",
       "      <td>1</td>\n",
       "      <td>1</td>\n",
       "      <td>0</td>\n",
       "      <td>0</td>\n",
       "      <td>0</td>\n",
       "      <td>0</td>\n",
       "      <td>0</td>\n",
       "    </tr>\n",
       "    <tr>\n",
       "      <th>4</th>\n",
       "      <td>Maruti Swift VXI BSIII</td>\n",
       "      <td>2007</td>\n",
       "      <td>130000</td>\n",
       "      <td>120000</td>\n",
       "      <td>Petrol</td>\n",
       "      <td>Individual</td>\n",
       "      <td>Manual</td>\n",
       "      <td>First Owner</td>\n",
       "      <td>16.1 kmpl</td>\n",
       "      <td>1298 CC</td>\n",
       "      <td>...</td>\n",
       "      <td>0</td>\n",
       "      <td>0</td>\n",
       "      <td>1</td>\n",
       "      <td>1</td>\n",
       "      <td>1</td>\n",
       "      <td>0</td>\n",
       "      <td>0</td>\n",
       "      <td>0</td>\n",
       "      <td>0</td>\n",
       "      <td>0</td>\n",
       "    </tr>\n",
       "  </tbody>\n",
       "</table>\n",
       "<p>5 rows × 23 columns</p>\n",
       "</div>"
      ],
      "text/plain": [
       "                           name  year  selling_price  km_driven    fuel  \\\n",
       "0        Maruti Swift Dzire VDI  2014         450000     145500  Diesel   \n",
       "1  Skoda Rapid 1.5 TDI Ambition  2014         370000     120000  Diesel   \n",
       "2      Honda City 2017-2020 EXi  2006         158000     140000  Petrol   \n",
       "3     Hyundai i20 Sportz Diesel  2010         225000     127000  Diesel   \n",
       "4        Maruti Swift VXI BSIII  2007         130000     120000  Petrol   \n",
       "\n",
       "  seller_type transmission         owner     mileage   engine  ... Diesel LPG  \\\n",
       "0  Individual       Manual   First Owner   23.4 kmpl  1248 CC  ...      1   0   \n",
       "1  Individual       Manual  Second Owner  21.14 kmpl  1498 CC  ...      1   0   \n",
       "2  Individual       Manual   Third Owner   17.7 kmpl  1497 CC  ...      0   0   \n",
       "3  Individual       Manual   First Owner   23.0 kmpl  1396 CC  ...      1   0   \n",
       "4  Individual       Manual   First Owner   16.1 kmpl  1298 CC  ...      0   0   \n",
       "\n",
       "   Petrol  Manual  Individual  Trustmark Dealer  Fourth & Above Owner  \\\n",
       "0       0       1           1                 0                     0   \n",
       "1       0       1           1                 0                     0   \n",
       "2       1       1           1                 0                     0   \n",
       "3       0       1           1                 0                     0   \n",
       "4       1       1           1                 0                     0   \n",
       "\n",
       "   Second Owner  Test Drive Car  Third Owner  \n",
       "0             0               0            0  \n",
       "1             1               0            0  \n",
       "2             0               0            1  \n",
       "3             0               0            0  \n",
       "4             0               0            0  \n",
       "\n",
       "[5 rows x 23 columns]"
      ]
     },
     "execution_count": 298,
     "metadata": {},
     "output_type": "execute_result"
    }
   ],
   "source": [
    "df1.head()"
   ]
  },
  {
   "cell_type": "code",
   "execution_count": 303,
   "id": "ea12a42f",
   "metadata": {},
   "outputs": [
    {
     "data": {
      "text/plain": [
       "<matplotlib.axes._subplots.AxesSubplot at 0x212c2ed2df0>"
      ]
     },
     "execution_count": 303,
     "metadata": {},
     "output_type": "execute_result"
    },
    {
     "data": {
      "image/png": "[encoded data removed]",
      "text/plain": [
       "<Figure size 864x864 with 2 Axes>"
      ]
     },
     "metadata": {
      "needs_background": "light"
     },
     "output_type": "display_data"
    }
   ],
   "source": [
    "plt.figure(figsize = (12,12))\n",
    "sns.heatmap(df1.corr(), annot = True)"
   ]
  },
  {
   "cell_type": "code",
   "execution_count": 304,
   "id": "5920deef",
   "metadata": {
    "scrolled": true
   },
   "outputs": [
    {
     "data": {
      "text/html": [
       "<div>\n",
       "<style scoped>\n",
       "    .dataframe tbody tr th:only-of-type {\n",
       "        vertical-align: middle;\n",
       "    }\n",
       "\n",
       "    .dataframe tbody tr th {\n",
       "        vertical-align: top;\n",
       "    }\n",
       "\n",
       "    .dataframe thead th {\n",
       "        text-align: right;\n",
       "    }\n",
       "</style>\n",
       "<table border=\"1\" class=\"dataframe\">\n",
       "  <thead>\n",
       "    <tr style=\"text-align: right;\">\n",
       "      <th></th>\n",
       "      <th>name</th>\n",
       "      <th>year</th>\n",
       "      <th>selling_price</th>\n",
       "      <th>km_driven</th>\n",
       "      <th>fuel</th>\n",
       "      <th>seller_type</th>\n",
       "      <th>transmission</th>\n",
       "      <th>owner</th>\n",
       "      <th>mileage</th>\n",
       "      <th>engine</th>\n",
       "      <th>...</th>\n",
       "      <th>Diesel</th>\n",
       "      <th>LPG</th>\n",
       "      <th>Petrol</th>\n",
       "      <th>Manual</th>\n",
       "      <th>Individual</th>\n",
       "      <th>Trustmark Dealer</th>\n",
       "      <th>Fourth &amp; Above Owner</th>\n",
       "      <th>Second Owner</th>\n",
       "      <th>Test Drive Car</th>\n",
       "      <th>Third Owner</th>\n",
       "    </tr>\n",
       "  </thead>\n",
       "  <tbody>\n",
       "    <tr>\n",
       "      <th>0</th>\n",
       "      <td>Maruti Swift Dzire VDI</td>\n",
       "      <td>2014</td>\n",
       "      <td>450000</td>\n",
       "      <td>145500</td>\n",
       "      <td>Diesel</td>\n",
       "      <td>Individual</td>\n",
       "      <td>Manual</td>\n",
       "      <td>First Owner</td>\n",
       "      <td>23.4 kmpl</td>\n",
       "      <td>1248 CC</td>\n",
       "      <td>...</td>\n",
       "      <td>1</td>\n",
       "      <td>0</td>\n",
       "      <td>0</td>\n",
       "      <td>1</td>\n",
       "      <td>1</td>\n",
       "      <td>0</td>\n",
       "      <td>0</td>\n",
       "      <td>0</td>\n",
       "      <td>0</td>\n",
       "      <td>0</td>\n",
       "    </tr>\n",
       "    <tr>\n",
       "      <th>1</th>\n",
       "      <td>Skoda Rapid 1.5 TDI Ambition</td>\n",
       "      <td>2014</td>\n",
       "      <td>370000</td>\n",
       "      <td>120000</td>\n",
       "      <td>Diesel</td>\n",
       "      <td>Individual</td>\n",
       "      <td>Manual</td>\n",
       "      <td>Second Owner</td>\n",
       "      <td>21.14 kmpl</td>\n",
       "      <td>1498 CC</td>\n",
       "      <td>...</td>\n",
       "      <td>1</td>\n",
       "      <td>0</td>\n",
       "      <td>0</td>\n",
       "      <td>1</td>\n",
       "      <td>1</td>\n",
       "      <td>0</td>\n",
       "      <td>0</td>\n",
       "      <td>1</td>\n",
       "      <td>0</td>\n",
       "      <td>0</td>\n",
       "    </tr>\n",
       "    <tr>\n",
       "      <th>2</th>\n",
       "      <td>Honda City 2017-2020 EXi</td>\n",
       "      <td>2006</td>\n",
       "      <td>158000</td>\n",
       "      <td>140000</td>\n",
       "      <td>Petrol</td>\n",
       "      <td>Individual</td>\n",
       "      <td>Manual</td>\n",
       "      <td>Third Owner</td>\n",
       "      <td>17.7 kmpl</td>\n",
       "      <td>1497 CC</td>\n",
       "      <td>...</td>\n",
       "      <td>0</td>\n",
       "      <td>0</td>\n",
       "      <td>1</td>\n",
       "      <td>1</td>\n",
       "      <td>1</td>\n",
       "      <td>0</td>\n",
       "      <td>0</td>\n",
       "      <td>0</td>\n",
       "      <td>0</td>\n",
       "      <td>1</td>\n",
       "    </tr>\n",
       "    <tr>\n",
       "      <th>3</th>\n",
       "      <td>Hyundai i20 Sportz Diesel</td>\n",
       "      <td>2010</td>\n",
       "      <td>225000</td>\n",
       "      <td>127000</td>\n",
       "      <td>Diesel</td>\n",
       "      <td>Individual</td>\n",
       "      <td>Manual</td>\n",
       "      <td>First Owner</td>\n",
       "      <td>23.0 kmpl</td>\n",
       "      <td>1396 CC</td>\n",
       "      <td>...</td>\n",
       "      <td>1</td>\n",
       "      <td>0</td>\n",
       "      <td>0</td>\n",
       "      <td>1</td>\n",
       "      <td>1</td>\n",
       "      <td>0</td>\n",
       "      <td>0</td>\n",
       "      <td>0</td>\n",
       "      <td>0</td>\n",
       "      <td>0</td>\n",
       "    </tr>\n",
       "    <tr>\n",
       "      <th>4</th>\n",
       "      <td>Maruti Swift VXI BSIII</td>\n",
       "      <td>2007</td>\n",
       "      <td>130000</td>\n",
       "      <td>120000</td>\n",
       "      <td>Petrol</td>\n",
       "      <td>Individual</td>\n",
       "      <td>Manual</td>\n",
       "      <td>First Owner</td>\n",
       "      <td>16.1 kmpl</td>\n",
       "      <td>1298 CC</td>\n",
       "      <td>...</td>\n",
       "      <td>0</td>\n",
       "      <td>0</td>\n",
       "      <td>1</td>\n",
       "      <td>1</td>\n",
       "      <td>1</td>\n",
       "      <td>0</td>\n",
       "      <td>0</td>\n",
       "      <td>0</td>\n",
       "      <td>0</td>\n",
       "      <td>0</td>\n",
       "    </tr>\n",
       "  </tbody>\n",
       "</table>\n",
       "<p>5 rows × 23 columns</p>\n",
       "</div>"
      ],
      "text/plain": [
       "                           name  year  selling_price  km_driven    fuel  \\\n",
       "0        Maruti Swift Dzire VDI  2014         450000     145500  Diesel   \n",
       "1  Skoda Rapid 1.5 TDI Ambition  2014         370000     120000  Diesel   \n",
       "2      Honda City 2017-2020 EXi  2006         158000     140000  Petrol   \n",
       "3     Hyundai i20 Sportz Diesel  2010         225000     127000  Diesel   \n",
       "4        Maruti Swift VXI BSIII  2007         130000     120000  Petrol   \n",
       "\n",
       "  seller_type transmission         owner     mileage   engine  ... Diesel LPG  \\\n",
       "0  Individual       Manual   First Owner   23.4 kmpl  1248 CC  ...      1   0   \n",
       "1  Individual       Manual  Second Owner  21.14 kmpl  1498 CC  ...      1   0   \n",
       "2  Individual       Manual   Third Owner   17.7 kmpl  1497 CC  ...      0   0   \n",
       "3  Individual       Manual   First Owner   23.0 kmpl  1396 CC  ...      1   0   \n",
       "4  Individual       Manual   First Owner   16.1 kmpl  1298 CC  ...      0   0   \n",
       "\n",
       "   Petrol  Manual  Individual  Trustmark Dealer  Fourth & Above Owner  \\\n",
       "0       0       1           1                 0                     0   \n",
       "1       0       1           1                 0                     0   \n",
       "2       1       1           1                 0                     0   \n",
       "3       0       1           1                 0                     0   \n",
       "4       1       1           1                 0                     0   \n",
       "\n",
       "   Second Owner  Test Drive Car  Third Owner  \n",
       "0             0               0            0  \n",
       "1             1               0            0  \n",
       "2             0               0            1  \n",
       "3             0               0            0  \n",
       "4             0               0            0  \n",
       "\n",
       "[5 rows x 23 columns]"
      ]
     },
     "execution_count": 304,
     "metadata": {},
     "output_type": "execute_result"
    }
   ],
   "source": [
    "df1.head()"
   ]
  },
  {
   "cell_type": "code",
   "execution_count": 305,
   "id": "e55319c7",
   "metadata": {},
   "outputs": [
    {
     "data": {
      "text/html": [
       "<div>\n",
       "<style scoped>\n",
       "    .dataframe tbody tr th:only-of-type {\n",
       "        vertical-align: middle;\n",
       "    }\n",
       "\n",
       "    .dataframe tbody tr th {\n",
       "        vertical-align: top;\n",
       "    }\n",
       "\n",
       "    .dataframe thead th {\n",
       "        text-align: right;\n",
       "    }\n",
       "</style>\n",
       "<table border=\"1\" class=\"dataframe\">\n",
       "  <thead>\n",
       "    <tr style=\"text-align: right;\">\n",
       "      <th></th>\n",
       "      <th>year</th>\n",
       "      <th>selling_price</th>\n",
       "      <th>km_driven</th>\n",
       "      <th>seats</th>\n",
       "      <th>Diesel</th>\n",
       "      <th>LPG</th>\n",
       "      <th>Petrol</th>\n",
       "      <th>Manual</th>\n",
       "      <th>Individual</th>\n",
       "      <th>Trustmark Dealer</th>\n",
       "      <th>Fourth &amp; Above Owner</th>\n",
       "      <th>Second Owner</th>\n",
       "      <th>Test Drive Car</th>\n",
       "      <th>Third Owner</th>\n",
       "    </tr>\n",
       "  </thead>\n",
       "  <tbody>\n",
       "    <tr>\n",
       "      <th>count</th>\n",
       "      <td>7906.000000</td>\n",
       "      <td>7.906000e+03</td>\n",
       "      <td>7.906000e+03</td>\n",
       "      <td>7906.000000</td>\n",
       "      <td>7906.000000</td>\n",
       "      <td>7906.000000</td>\n",
       "      <td>7906.000000</td>\n",
       "      <td>7906.000000</td>\n",
       "      <td>7906.000000</td>\n",
       "      <td>7906.000000</td>\n",
       "      <td>7906.000000</td>\n",
       "      <td>7906.000000</td>\n",
       "      <td>7906.000000</td>\n",
       "      <td>7906.000000</td>\n",
       "    </tr>\n",
       "    <tr>\n",
       "      <th>mean</th>\n",
       "      <td>2013.983936</td>\n",
       "      <td>6.498137e+05</td>\n",
       "      <td>6.918866e+04</td>\n",
       "      <td>5.416393</td>\n",
       "      <td>0.543764</td>\n",
       "      <td>0.004427</td>\n",
       "      <td>0.445231</td>\n",
       "      <td>0.868328</td>\n",
       "      <td>0.830129</td>\n",
       "      <td>0.029851</td>\n",
       "      <td>0.020238</td>\n",
       "      <td>0.254996</td>\n",
       "      <td>0.000632</td>\n",
       "      <td>0.064508</td>\n",
       "    </tr>\n",
       "    <tr>\n",
       "      <th>std</th>\n",
       "      <td>3.863695</td>\n",
       "      <td>8.135827e+05</td>\n",
       "      <td>5.679230e+04</td>\n",
       "      <td>0.959208</td>\n",
       "      <td>0.498113</td>\n",
       "      <td>0.066393</td>\n",
       "      <td>0.497023</td>\n",
       "      <td>0.338155</td>\n",
       "      <td>0.375543</td>\n",
       "      <td>0.170186</td>\n",
       "      <td>0.140822</td>\n",
       "      <td>0.435887</td>\n",
       "      <td>0.025142</td>\n",
       "      <td>0.245671</td>\n",
       "    </tr>\n",
       "    <tr>\n",
       "      <th>min</th>\n",
       "      <td>1994.000000</td>\n",
       "      <td>2.999900e+04</td>\n",
       "      <td>1.000000e+00</td>\n",
       "      <td>2.000000</td>\n",
       "      <td>0.000000</td>\n",
       "      <td>0.000000</td>\n",
       "      <td>0.000000</td>\n",
       "      <td>0.000000</td>\n",
       "      <td>0.000000</td>\n",
       "      <td>0.000000</td>\n",
       "      <td>0.000000</td>\n",
       "      <td>0.000000</td>\n",
       "      <td>0.000000</td>\n",
       "      <td>0.000000</td>\n",
       "    </tr>\n",
       "    <tr>\n",
       "      <th>25%</th>\n",
       "      <td>2012.000000</td>\n",
       "      <td>2.700000e+05</td>\n",
       "      <td>3.500000e+04</td>\n",
       "      <td>5.000000</td>\n",
       "      <td>0.000000</td>\n",
       "      <td>0.000000</td>\n",
       "      <td>0.000000</td>\n",
       "      <td>1.000000</td>\n",
       "      <td>1.000000</td>\n",
       "      <td>0.000000</td>\n",
       "      <td>0.000000</td>\n",
       "      <td>0.000000</td>\n",
       "      <td>0.000000</td>\n",
       "      <td>0.000000</td>\n",
       "    </tr>\n",
       "    <tr>\n",
       "      <th>50%</th>\n",
       "      <td>2015.000000</td>\n",
       "      <td>4.500000e+05</td>\n",
       "      <td>6.000000e+04</td>\n",
       "      <td>5.000000</td>\n",
       "      <td>1.000000</td>\n",
       "      <td>0.000000</td>\n",
       "      <td>0.000000</td>\n",
       "      <td>1.000000</td>\n",
       "      <td>1.000000</td>\n",
       "      <td>0.000000</td>\n",
       "      <td>0.000000</td>\n",
       "      <td>0.000000</td>\n",
       "      <td>0.000000</td>\n",
       "      <td>0.000000</td>\n",
       "    </tr>\n",
       "    <tr>\n",
       "      <th>75%</th>\n",
       "      <td>2017.000000</td>\n",
       "      <td>6.900000e+05</td>\n",
       "      <td>9.542500e+04</td>\n",
       "      <td>5.000000</td>\n",
       "      <td>1.000000</td>\n",
       "      <td>0.000000</td>\n",
       "      <td>1.000000</td>\n",
       "      <td>1.000000</td>\n",
       "      <td>1.000000</td>\n",
       "      <td>0.000000</td>\n",
       "      <td>0.000000</td>\n",
       "      <td>1.000000</td>\n",
       "      <td>0.000000</td>\n",
       "      <td>0.000000</td>\n",
       "    </tr>\n",
       "    <tr>\n",
       "      <th>max</th>\n",
       "      <td>2020.000000</td>\n",
       "      <td>1.000000e+07</td>\n",
       "      <td>2.360457e+06</td>\n",
       "      <td>14.000000</td>\n",
       "      <td>1.000000</td>\n",
       "      <td>1.000000</td>\n",
       "      <td>1.000000</td>\n",
       "      <td>1.000000</td>\n",
       "      <td>1.000000</td>\n",
       "      <td>1.000000</td>\n",
       "      <td>1.000000</td>\n",
       "      <td>1.000000</td>\n",
       "      <td>1.000000</td>\n",
       "      <td>1.000000</td>\n",
       "    </tr>\n",
       "  </tbody>\n",
       "</table>\n",
       "</div>"
      ],
      "text/plain": [
       "              year  selling_price     km_driven        seats       Diesel  \\\n",
       "count  7906.000000   7.906000e+03  7.906000e+03  7906.000000  7906.000000   \n",
       "mean   2013.983936   6.498137e+05  6.918866e+04     5.416393     0.543764   \n",
       "std       3.863695   8.135827e+05  5.679230e+04     0.959208     0.498113   \n",
       "min    1994.000000   2.999900e+04  1.000000e+00     2.000000     0.000000   \n",
       "25%    2012.000000   2.700000e+05  3.500000e+04     5.000000     0.000000   \n",
       "50%    2015.000000   4.500000e+05  6.000000e+04     5.000000     1.000000   \n",
       "75%    2017.000000   6.900000e+05  9.542500e+04     5.000000     1.000000   \n",
       "max    2020.000000   1.000000e+07  2.360457e+06    14.000000     1.000000   \n",
       "\n",
       "               LPG       Petrol       Manual   Individual  Trustmark Dealer  \\\n",
       "count  7906.000000  7906.000000  7906.000000  7906.000000       7906.000000   \n",
       "mean      0.004427     0.445231     0.868328     0.830129          0.029851   \n",
       "std       0.066393     0.497023     0.338155     0.375543          0.170186   \n",
       "min       0.000000     0.000000     0.000000     0.000000          0.000000   \n",
       "25%       0.000000     0.000000     1.000000     1.000000          0.000000   \n",
       "50%       0.000000     0.000000     1.000000     1.000000          0.000000   \n",
       "75%       0.000000     1.000000     1.000000     1.000000          0.000000   \n",
       "max       1.000000     1.000000     1.000000     1.000000          1.000000   \n",
       "\n",
       "       Fourth & Above Owner  Second Owner  Test Drive Car  Third Owner  \n",
       "count           7906.000000   7906.000000     7906.000000  7906.000000  \n",
       "mean               0.020238      0.254996        0.000632     0.064508  \n",
       "std                0.140822      0.435887        0.025142     0.245671  \n",
       "min                0.000000      0.000000        0.000000     0.000000  \n",
       "25%                0.000000      0.000000        0.000000     0.000000  \n",
       "50%                0.000000      0.000000        0.000000     0.000000  \n",
       "75%                0.000000      1.000000        0.000000     0.000000  \n",
       "max                1.000000      1.000000        1.000000     1.000000  "
      ]
     },
     "execution_count": 305,
     "metadata": {},
     "output_type": "execute_result"
    }
   ],
   "source": [
    "df1.describe()"
   ]
  },
  {
   "cell_type": "code",
   "execution_count": 306,
   "id": "0f440011",
   "metadata": {
    "scrolled": true
   },
   "outputs": [
    {
     "data": {
      "text/plain": [
       "Index(['year', 'selling_price', 'km_driven', 'seats'], dtype='object')"
      ]
     },
     "execution_count": 306,
     "metadata": {},
     "output_type": "execute_result"
    }
   ],
   "source": [
    "df._get_numeric_data().columns"
   ]
  },
  {
   "cell_type": "code",
   "execution_count": 307,
   "id": "d99e0eb5",
   "metadata": {},
   "outputs": [],
   "source": [
    "df['selling_price'] = df['selling_price'].astype('int64')"
   ]
  },
  {
   "cell_type": "code",
   "execution_count": 308,
   "id": "071a88ec",
   "metadata": {},
   "outputs": [
    {
     "data": {
      "text/plain": [
       "649813.720844928"
      ]
     },
     "execution_count": 308,
     "metadata": {},
     "output_type": "execute_result"
    }
   ],
   "source": [
    "df.selling_price.mean()"
   ]
  },
  {
   "cell_type": "code",
   "execution_count": 309,
   "id": "e4fdee52",
   "metadata": {},
   "outputs": [
    {
     "data": {
      "text/html": [
       "<div>\n",
       "<style scoped>\n",
       "    .dataframe tbody tr th:only-of-type {\n",
       "        vertical-align: middle;\n",
       "    }\n",
       "\n",
       "    .dataframe tbody tr th {\n",
       "        vertical-align: top;\n",
       "    }\n",
       "\n",
       "    .dataframe thead th {\n",
       "        text-align: right;\n",
       "    }\n",
       "</style>\n",
       "<table border=\"1\" class=\"dataframe\">\n",
       "  <thead>\n",
       "    <tr style=\"text-align: right;\">\n",
       "      <th></th>\n",
       "      <th>year</th>\n",
       "      <th>selling_price</th>\n",
       "      <th>km_driven</th>\n",
       "      <th>seats</th>\n",
       "    </tr>\n",
       "  </thead>\n",
       "  <tbody>\n",
       "    <tr>\n",
       "      <th>count</th>\n",
       "      <td>7906.000000</td>\n",
       "      <td>7.906000e+03</td>\n",
       "      <td>7.906000e+03</td>\n",
       "      <td>7906.000000</td>\n",
       "    </tr>\n",
       "    <tr>\n",
       "      <th>mean</th>\n",
       "      <td>2013.983936</td>\n",
       "      <td>6.498137e+05</td>\n",
       "      <td>6.918866e+04</td>\n",
       "      <td>5.416393</td>\n",
       "    </tr>\n",
       "    <tr>\n",
       "      <th>std</th>\n",
       "      <td>3.863695</td>\n",
       "      <td>8.135827e+05</td>\n",
       "      <td>5.679230e+04</td>\n",
       "      <td>0.959208</td>\n",
       "    </tr>\n",
       "    <tr>\n",
       "      <th>min</th>\n",
       "      <td>1994.000000</td>\n",
       "      <td>2.999900e+04</td>\n",
       "      <td>1.000000e+00</td>\n",
       "      <td>2.000000</td>\n",
       "    </tr>\n",
       "    <tr>\n",
       "      <th>25%</th>\n",
       "      <td>2012.000000</td>\n",
       "      <td>2.700000e+05</td>\n",
       "      <td>3.500000e+04</td>\n",
       "      <td>5.000000</td>\n",
       "    </tr>\n",
       "    <tr>\n",
       "      <th>50%</th>\n",
       "      <td>2015.000000</td>\n",
       "      <td>4.500000e+05</td>\n",
       "      <td>6.000000e+04</td>\n",
       "      <td>5.000000</td>\n",
       "    </tr>\n",
       "    <tr>\n",
       "      <th>75%</th>\n",
       "      <td>2017.000000</td>\n",
       "      <td>6.900000e+05</td>\n",
       "      <td>9.542500e+04</td>\n",
       "      <td>5.000000</td>\n",
       "    </tr>\n",
       "    <tr>\n",
       "      <th>max</th>\n",
       "      <td>2020.000000</td>\n",
       "      <td>1.000000e+07</td>\n",
       "      <td>2.360457e+06</td>\n",
       "      <td>14.000000</td>\n",
       "    </tr>\n",
       "  </tbody>\n",
       "</table>\n",
       "</div>"
      ],
      "text/plain": [
       "              year  selling_price     km_driven        seats\n",
       "count  7906.000000   7.906000e+03  7.906000e+03  7906.000000\n",
       "mean   2013.983936   6.498137e+05  6.918866e+04     5.416393\n",
       "std       3.863695   8.135827e+05  5.679230e+04     0.959208\n",
       "min    1994.000000   2.999900e+04  1.000000e+00     2.000000\n",
       "25%    2012.000000   2.700000e+05  3.500000e+04     5.000000\n",
       "50%    2015.000000   4.500000e+05  6.000000e+04     5.000000\n",
       "75%    2017.000000   6.900000e+05  9.542500e+04     5.000000\n",
       "max    2020.000000   1.000000e+07  2.360457e+06    14.000000"
      ]
     },
     "execution_count": 309,
     "metadata": {},
     "output_type": "execute_result"
    }
   ],
   "source": [
    "df.describe()"
   ]
  },
  {
   "cell_type": "code",
   "execution_count": 310,
   "id": "0a5d3c25",
   "metadata": {},
   "outputs": [
    {
     "data": {
      "text/plain": [
       "Index(['name', 'year', 'selling_price', 'km_driven', 'fuel', 'seller_type',\n",
       "       'transmission', 'owner', 'mileage', 'engine', 'max_power', 'torque',\n",
       "       'seats', 'Diesel', 'LPG', 'Petrol', 'Manual', 'Individual',\n",
       "       'Trustmark Dealer', 'Fourth & Above Owner', 'Second Owner',\n",
       "       'Test Drive Car', 'Third Owner'],\n",
       "      dtype='object')"
      ]
     },
     "execution_count": 310,
     "metadata": {},
     "output_type": "execute_result"
    }
   ],
   "source": [
    "df1.columns"
   ]
  },
  {
   "cell_type": "code",
   "execution_count": null,
   "id": "0cfa1bf2",
   "metadata": {},
   "outputs": [],
   "source": []
  },
  {
   "cell_type": "code",
   "execution_count": 311,
   "id": "8cce84a2",
   "metadata": {},
   "outputs": [
    {
     "data": {
      "text/html": [
       "<div>\n",
       "<style scoped>\n",
       "    .dataframe tbody tr th:only-of-type {\n",
       "        vertical-align: middle;\n",
       "    }\n",
       "\n",
       "    .dataframe tbody tr th {\n",
       "        vertical-align: top;\n",
       "    }\n",
       "\n",
       "    .dataframe thead th {\n",
       "        text-align: right;\n",
       "    }\n",
       "</style>\n",
       "<table border=\"1\" class=\"dataframe\">\n",
       "  <thead>\n",
       "    <tr style=\"text-align: right;\">\n",
       "      <th></th>\n",
       "      <th>name</th>\n",
       "      <th>year</th>\n",
       "      <th>selling_price</th>\n",
       "      <th>km_driven</th>\n",
       "      <th>mileage</th>\n",
       "      <th>engine</th>\n",
       "      <th>max_power</th>\n",
       "      <th>torque</th>\n",
       "      <th>seats</th>\n",
       "      <th>Diesel</th>\n",
       "      <th>LPG</th>\n",
       "      <th>Petrol</th>\n",
       "      <th>Manual</th>\n",
       "      <th>Individual</th>\n",
       "      <th>Trustmark Dealer</th>\n",
       "      <th>Fourth &amp; Above Owner</th>\n",
       "      <th>Second Owner</th>\n",
       "      <th>Test Drive Car</th>\n",
       "      <th>Third Owner</th>\n",
       "    </tr>\n",
       "  </thead>\n",
       "  <tbody>\n",
       "    <tr>\n",
       "      <th>0</th>\n",
       "      <td>Maruti Swift Dzire VDI</td>\n",
       "      <td>2014</td>\n",
       "      <td>450000</td>\n",
       "      <td>145500</td>\n",
       "      <td>23.4 kmpl</td>\n",
       "      <td>1248 CC</td>\n",
       "      <td>74 bhp</td>\n",
       "      <td>190Nm@ 2000rpm</td>\n",
       "      <td>5.0</td>\n",
       "      <td>1</td>\n",
       "      <td>0</td>\n",
       "      <td>0</td>\n",
       "      <td>1</td>\n",
       "      <td>1</td>\n",
       "      <td>0</td>\n",
       "      <td>0</td>\n",
       "      <td>0</td>\n",
       "      <td>0</td>\n",
       "      <td>0</td>\n",
       "    </tr>\n",
       "    <tr>\n",
       "      <th>1</th>\n",
       "      <td>Skoda Rapid 1.5 TDI Ambition</td>\n",
       "      <td>2014</td>\n",
       "      <td>370000</td>\n",
       "      <td>120000</td>\n",
       "      <td>21.14 kmpl</td>\n",
       "      <td>1498 CC</td>\n",
       "      <td>103.52 bhp</td>\n",
       "      <td>250Nm@ 1500-2500rpm</td>\n",
       "      <td>5.0</td>\n",
       "      <td>1</td>\n",
       "      <td>0</td>\n",
       "      <td>0</td>\n",
       "      <td>1</td>\n",
       "      <td>1</td>\n",
       "      <td>0</td>\n",
       "      <td>0</td>\n",
       "      <td>1</td>\n",
       "      <td>0</td>\n",
       "      <td>0</td>\n",
       "    </tr>\n",
       "    <tr>\n",
       "      <th>2</th>\n",
       "      <td>Honda City 2017-2020 EXi</td>\n",
       "      <td>2006</td>\n",
       "      <td>158000</td>\n",
       "      <td>140000</td>\n",
       "      <td>17.7 kmpl</td>\n",
       "      <td>1497 CC</td>\n",
       "      <td>78 bhp</td>\n",
       "      <td>12.7@ 2,700(kgm@ rpm)</td>\n",
       "      <td>5.0</td>\n",
       "      <td>0</td>\n",
       "      <td>0</td>\n",
       "      <td>1</td>\n",
       "      <td>1</td>\n",
       "      <td>1</td>\n",
       "      <td>0</td>\n",
       "      <td>0</td>\n",
       "      <td>0</td>\n",
       "      <td>0</td>\n",
       "      <td>1</td>\n",
       "    </tr>\n",
       "    <tr>\n",
       "      <th>3</th>\n",
       "      <td>Hyundai i20 Sportz Diesel</td>\n",
       "      <td>2010</td>\n",
       "      <td>225000</td>\n",
       "      <td>127000</td>\n",
       "      <td>23.0 kmpl</td>\n",
       "      <td>1396 CC</td>\n",
       "      <td>90 bhp</td>\n",
       "      <td>22.4 kgm at 1750-2750rpm</td>\n",
       "      <td>5.0</td>\n",
       "      <td>1</td>\n",
       "      <td>0</td>\n",
       "      <td>0</td>\n",
       "      <td>1</td>\n",
       "      <td>1</td>\n",
       "      <td>0</td>\n",
       "      <td>0</td>\n",
       "      <td>0</td>\n",
       "      <td>0</td>\n",
       "      <td>0</td>\n",
       "    </tr>\n",
       "    <tr>\n",
       "      <th>4</th>\n",
       "      <td>Maruti Swift VXI BSIII</td>\n",
       "      <td>2007</td>\n",
       "      <td>130000</td>\n",
       "      <td>120000</td>\n",
       "      <td>16.1 kmpl</td>\n",
       "      <td>1298 CC</td>\n",
       "      <td>88.2 bhp</td>\n",
       "      <td>11.5@ 4,500(kgm@ rpm)</td>\n",
       "      <td>5.0</td>\n",
       "      <td>0</td>\n",
       "      <td>0</td>\n",
       "      <td>1</td>\n",
       "      <td>1</td>\n",
       "      <td>1</td>\n",
       "      <td>0</td>\n",
       "      <td>0</td>\n",
       "      <td>0</td>\n",
       "      <td>0</td>\n",
       "      <td>0</td>\n",
       "    </tr>\n",
       "    <tr>\n",
       "      <th>...</th>\n",
       "      <td>...</td>\n",
       "      <td>...</td>\n",
       "      <td>...</td>\n",
       "      <td>...</td>\n",
       "      <td>...</td>\n",
       "      <td>...</td>\n",
       "      <td>...</td>\n",
       "      <td>...</td>\n",
       "      <td>...</td>\n",
       "      <td>...</td>\n",
       "      <td>...</td>\n",
       "      <td>...</td>\n",
       "      <td>...</td>\n",
       "      <td>...</td>\n",
       "      <td>...</td>\n",
       "      <td>...</td>\n",
       "      <td>...</td>\n",
       "      <td>...</td>\n",
       "      <td>...</td>\n",
       "    </tr>\n",
       "    <tr>\n",
       "      <th>8123</th>\n",
       "      <td>Hyundai i20 Magna</td>\n",
       "      <td>2013</td>\n",
       "      <td>320000</td>\n",
       "      <td>110000</td>\n",
       "      <td>18.5 kmpl</td>\n",
       "      <td>1197 CC</td>\n",
       "      <td>82.85 bhp</td>\n",
       "      <td>113.7Nm@ 4000rpm</td>\n",
       "      <td>5.0</td>\n",
       "      <td>0</td>\n",
       "      <td>0</td>\n",
       "      <td>1</td>\n",
       "      <td>1</td>\n",
       "      <td>1</td>\n",
       "      <td>0</td>\n",
       "      <td>0</td>\n",
       "      <td>0</td>\n",
       "      <td>0</td>\n",
       "      <td>0</td>\n",
       "    </tr>\n",
       "    <tr>\n",
       "      <th>8124</th>\n",
       "      <td>Hyundai Verna CRDi SX</td>\n",
       "      <td>2007</td>\n",
       "      <td>135000</td>\n",
       "      <td>119000</td>\n",
       "      <td>16.8 kmpl</td>\n",
       "      <td>1493 CC</td>\n",
       "      <td>110 bhp</td>\n",
       "      <td>24@ 1,900-2,750(kgm@ rpm)</td>\n",
       "      <td>5.0</td>\n",
       "      <td>1</td>\n",
       "      <td>0</td>\n",
       "      <td>0</td>\n",
       "      <td>1</td>\n",
       "      <td>1</td>\n",
       "      <td>0</td>\n",
       "      <td>1</td>\n",
       "      <td>0</td>\n",
       "      <td>0</td>\n",
       "      <td>0</td>\n",
       "    </tr>\n",
       "    <tr>\n",
       "      <th>8125</th>\n",
       "      <td>Maruti Swift Dzire ZDi</td>\n",
       "      <td>2009</td>\n",
       "      <td>382000</td>\n",
       "      <td>120000</td>\n",
       "      <td>19.3 kmpl</td>\n",
       "      <td>1248 CC</td>\n",
       "      <td>73.9 bhp</td>\n",
       "      <td>190Nm@ 2000rpm</td>\n",
       "      <td>5.0</td>\n",
       "      <td>1</td>\n",
       "      <td>0</td>\n",
       "      <td>0</td>\n",
       "      <td>1</td>\n",
       "      <td>1</td>\n",
       "      <td>0</td>\n",
       "      <td>0</td>\n",
       "      <td>0</td>\n",
       "      <td>0</td>\n",
       "      <td>0</td>\n",
       "    </tr>\n",
       "    <tr>\n",
       "      <th>8126</th>\n",
       "      <td>Tata Indigo CR4</td>\n",
       "      <td>2013</td>\n",
       "      <td>290000</td>\n",
       "      <td>25000</td>\n",
       "      <td>23.57 kmpl</td>\n",
       "      <td>1396 CC</td>\n",
       "      <td>70 bhp</td>\n",
       "      <td>140Nm@ 1800-3000rpm</td>\n",
       "      <td>5.0</td>\n",
       "      <td>1</td>\n",
       "      <td>0</td>\n",
       "      <td>0</td>\n",
       "      <td>1</td>\n",
       "      <td>1</td>\n",
       "      <td>0</td>\n",
       "      <td>0</td>\n",
       "      <td>0</td>\n",
       "      <td>0</td>\n",
       "      <td>0</td>\n",
       "    </tr>\n",
       "    <tr>\n",
       "      <th>8127</th>\n",
       "      <td>Tata Indigo CR4</td>\n",
       "      <td>2013</td>\n",
       "      <td>290000</td>\n",
       "      <td>25000</td>\n",
       "      <td>23.57 kmpl</td>\n",
       "      <td>1396 CC</td>\n",
       "      <td>70 bhp</td>\n",
       "      <td>140Nm@ 1800-3000rpm</td>\n",
       "      <td>5.0</td>\n",
       "      <td>1</td>\n",
       "      <td>0</td>\n",
       "      <td>0</td>\n",
       "      <td>1</td>\n",
       "      <td>1</td>\n",
       "      <td>0</td>\n",
       "      <td>0</td>\n",
       "      <td>0</td>\n",
       "      <td>0</td>\n",
       "      <td>0</td>\n",
       "    </tr>\n",
       "  </tbody>\n",
       "</table>\n",
       "<p>7906 rows × 19 columns</p>\n",
       "</div>"
      ],
      "text/plain": [
       "                              name  year  selling_price  km_driven  \\\n",
       "0           Maruti Swift Dzire VDI  2014         450000     145500   \n",
       "1     Skoda Rapid 1.5 TDI Ambition  2014         370000     120000   \n",
       "2         Honda City 2017-2020 EXi  2006         158000     140000   \n",
       "3        Hyundai i20 Sportz Diesel  2010         225000     127000   \n",
       "4           Maruti Swift VXI BSIII  2007         130000     120000   \n",
       "...                            ...   ...            ...        ...   \n",
       "8123             Hyundai i20 Magna  2013         320000     110000   \n",
       "8124         Hyundai Verna CRDi SX  2007         135000     119000   \n",
       "8125        Maruti Swift Dzire ZDi  2009         382000     120000   \n",
       "8126               Tata Indigo CR4  2013         290000      25000   \n",
       "8127               Tata Indigo CR4  2013         290000      25000   \n",
       "\n",
       "         mileage   engine   max_power                     torque  seats  \\\n",
       "0      23.4 kmpl  1248 CC      74 bhp             190Nm@ 2000rpm    5.0   \n",
       "1     21.14 kmpl  1498 CC  103.52 bhp        250Nm@ 1500-2500rpm    5.0   \n",
       "2      17.7 kmpl  1497 CC      78 bhp      12.7@ 2,700(kgm@ rpm)    5.0   \n",
       "3      23.0 kmpl  1396 CC      90 bhp   22.4 kgm at 1750-2750rpm    5.0   \n",
       "4      16.1 kmpl  1298 CC    88.2 bhp      11.5@ 4,500(kgm@ rpm)    5.0   \n",
       "...          ...      ...         ...                        ...    ...   \n",
       "8123   18.5 kmpl  1197 CC   82.85 bhp           113.7Nm@ 4000rpm    5.0   \n",
       "8124   16.8 kmpl  1493 CC     110 bhp  24@ 1,900-2,750(kgm@ rpm)    5.0   \n",
       "8125   19.3 kmpl  1248 CC    73.9 bhp             190Nm@ 2000rpm    5.0   \n",
       "8126  23.57 kmpl  1396 CC      70 bhp        140Nm@ 1800-3000rpm    5.0   \n",
       "8127  23.57 kmpl  1396 CC      70 bhp        140Nm@ 1800-3000rpm    5.0   \n",
       "\n",
       "      Diesel  LPG  Petrol  Manual  Individual  Trustmark Dealer  \\\n",
       "0          1    0       0       1           1                 0   \n",
       "1          1    0       0       1           1                 0   \n",
       "2          0    0       1       1           1                 0   \n",
       "3          1    0       0       1           1                 0   \n",
       "4          0    0       1       1           1                 0   \n",
       "...      ...  ...     ...     ...         ...               ...   \n",
       "8123       0    0       1       1           1                 0   \n",
       "8124       1    0       0       1           1                 0   \n",
       "8125       1    0       0       1           1                 0   \n",
       "8126       1    0       0       1           1                 0   \n",
       "8127       1    0       0       1           1                 0   \n",
       "\n",
       "      Fourth & Above Owner  Second Owner  Test Drive Car  Third Owner  \n",
       "0                        0             0               0            0  \n",
       "1                        0             1               0            0  \n",
       "2                        0             0               0            1  \n",
       "3                        0             0               0            0  \n",
       "4                        0             0               0            0  \n",
       "...                    ...           ...             ...          ...  \n",
       "8123                     0             0               0            0  \n",
       "8124                     1             0               0            0  \n",
       "8125                     0             0               0            0  \n",
       "8126                     0             0               0            0  \n",
       "8127                     0             0               0            0  \n",
       "\n",
       "[7906 rows x 19 columns]"
      ]
     },
     "execution_count": 311,
     "metadata": {},
     "output_type": "execute_result"
    }
   ],
   "source": [
    "df1.drop(['fuel', 'seller_type', 'transmission', 'owner'],axis =1 , inplace = True)\n",
    "df1"
   ]
  },
  {
   "cell_type": "code",
   "execution_count": 312,
   "id": "b30cdee6",
   "metadata": {},
   "outputs": [],
   "source": [
    "df1.rename(columns = {'Manual':'Transmission'}, inplace = True)"
   ]
  },
  {
   "cell_type": "code",
   "execution_count": 315,
   "id": "ef981836",
   "metadata": {},
   "outputs": [
    {
     "ename": "KeyError",
     "evalue": "'mileage'",
     "output_type": "error",
     "traceback": [
      "\u001b[1;31m---------------------------------------------------------------------------\u001b[0m",
      "\u001b[1;31mKeyError\u001b[0m                                  Traceback (most recent call last)",
      "\u001b[1;32mc:\\users\\arshdeep singh\\appdata\\local\\programs\\python\\python38\\lib\\site-packages\\pandas\\core\\indexes\\base.py\u001b[0m in \u001b[0;36mget_loc\u001b[1;34m(self, key, method, tolerance)\u001b[0m\n\u001b[0;32m   3360\u001b[0m             \u001b[1;32mtry\u001b[0m\u001b[1;33m:\u001b[0m\u001b[1;33m\u001b[0m\u001b[1;33m\u001b[0m\u001b[0m\n\u001b[1;32m-> 3361\u001b[1;33m                 \u001b[1;32mreturn\u001b[0m \u001b[0mself\u001b[0m\u001b[1;33m.\u001b[0m\u001b[0m_engine\u001b[0m\u001b[1;33m.\u001b[0m\u001b[0mget_loc\u001b[0m\u001b[1;33m(\u001b[0m\u001b[0mcasted_key\u001b[0m\u001b[1;33m)\u001b[0m\u001b[1;33m\u001b[0m\u001b[1;33m\u001b[0m\u001b[0m\n\u001b[0m\u001b[0;32m   3362\u001b[0m             \u001b[1;32mexcept\u001b[0m \u001b[0mKeyError\u001b[0m \u001b[1;32mas\u001b[0m \u001b[0merr\u001b[0m\u001b[1;33m:\u001b[0m\u001b[1;33m\u001b[0m\u001b[1;33m\u001b[0m\u001b[0m\n",
      "\u001b[1;32mc:\\users\\arshdeep singh\\appdata\\local\\programs\\python\\python38\\lib\\site-packages\\pandas\\_libs\\index.pyx\u001b[0m in \u001b[0;36mpandas._libs.index.IndexEngine.get_loc\u001b[1;34m()\u001b[0m\n",
      "\u001b[1;32mc:\\users\\arshdeep singh\\appdata\\local\\programs\\python\\python38\\lib\\site-packages\\pandas\\_libs\\index.pyx\u001b[0m in \u001b[0;36mpandas._libs.index.IndexEngine.get_loc\u001b[1;34m()\u001b[0m\n",
      "\u001b[1;32mpandas\\_libs\\hashtable_class_helper.pxi\u001b[0m in \u001b[0;36mpandas._libs.hashtable.PyObjectHashTable.get_item\u001b[1;34m()\u001b[0m\n",
      "\u001b[1;32mpandas\\_libs\\hashtable_class_helper.pxi\u001b[0m in \u001b[0;36mpandas._libs.hashtable.PyObjectHashTable.get_item\u001b[1;34m()\u001b[0m\n",
      "\u001b[1;31mKeyError\u001b[0m: 'mileage'",
      "\nThe above exception was the direct cause of the following exception:\n",
      "\u001b[1;31mKeyError\u001b[0m                                  Traceback (most recent call last)",
      "\u001b[1;32mC:\\Users\\ARSHDE~1\\AppData\\Local\\Temp/ipykernel_10340/3385965424.py\u001b[0m in \u001b[0;36m<module>\u001b[1;34m\u001b[0m\n\u001b[1;32m----> 1\u001b[1;33m \u001b[0mmileage_alter\u001b[0m \u001b[1;33m=\u001b[0m \u001b[0mdf1\u001b[0m\u001b[1;33m[\u001b[0m\u001b[1;34m'mileage'\u001b[0m\u001b[1;33m]\u001b[0m\u001b[1;33m.\u001b[0m\u001b[0mstr\u001b[0m\u001b[1;33m.\u001b[0m\u001b[0msplit\u001b[0m\u001b[1;33m(\u001b[0m\u001b[0mexpand\u001b[0m\u001b[1;33m=\u001b[0m\u001b[1;32mTrue\u001b[0m\u001b[1;33m)\u001b[0m\u001b[1;33m\u001b[0m\u001b[1;33m\u001b[0m\u001b[0m\n\u001b[0m\u001b[0;32m      2\u001b[0m \u001b[0mmileage_new\u001b[0m \u001b[1;33m=\u001b[0m \u001b[0mmileage_alter\u001b[0m\u001b[1;33m[\u001b[0m\u001b[1;36m0\u001b[0m\u001b[1;33m]\u001b[0m\u001b[1;33m\u001b[0m\u001b[1;33m\u001b[0m\u001b[0m\n\u001b[0;32m      3\u001b[0m \u001b[0mdf1\u001b[0m\u001b[1;33m[\u001b[0m\u001b[1;34m'Mileage'\u001b[0m\u001b[1;33m]\u001b[0m \u001b[1;33m=\u001b[0m \u001b[0mmileage_new\u001b[0m\u001b[1;33m\u001b[0m\u001b[1;33m\u001b[0m\u001b[0m\n\u001b[0;32m      4\u001b[0m \u001b[0mdf1\u001b[0m \u001b[1;33m=\u001b[0m \u001b[0mdf\u001b[0m\u001b[1;33m.\u001b[0m\u001b[0mdrop\u001b[0m\u001b[1;33m(\u001b[0m\u001b[1;33m[\u001b[0m\u001b[1;34m'mileage'\u001b[0m\u001b[1;33m]\u001b[0m\u001b[1;33m,\u001b[0m\u001b[0maxis\u001b[0m\u001b[1;33m=\u001b[0m\u001b[1;36m1\u001b[0m\u001b[1;33m)\u001b[0m\u001b[1;33m\u001b[0m\u001b[1;33m\u001b[0m\u001b[0m\n\u001b[0;32m      5\u001b[0m \u001b[0mdf1\u001b[0m\u001b[1;33m\u001b[0m\u001b[1;33m\u001b[0m\u001b[0m\n",
      "\u001b[1;32mc:\\users\\arshdeep singh\\appdata\\local\\programs\\python\\python38\\lib\\site-packages\\pandas\\core\\frame.py\u001b[0m in \u001b[0;36m__getitem__\u001b[1;34m(self, key)\u001b[0m\n\u001b[0;32m   3453\u001b[0m             \u001b[1;32mif\u001b[0m \u001b[0mself\u001b[0m\u001b[1;33m.\u001b[0m\u001b[0mcolumns\u001b[0m\u001b[1;33m.\u001b[0m\u001b[0mnlevels\u001b[0m \u001b[1;33m>\u001b[0m \u001b[1;36m1\u001b[0m\u001b[1;33m:\u001b[0m\u001b[1;33m\u001b[0m\u001b[1;33m\u001b[0m\u001b[0m\n\u001b[0;32m   3454\u001b[0m                 \u001b[1;32mreturn\u001b[0m \u001b[0mself\u001b[0m\u001b[1;33m.\u001b[0m\u001b[0m_getitem_multilevel\u001b[0m\u001b[1;33m(\u001b[0m\u001b[0mkey\u001b[0m\u001b[1;33m)\u001b[0m\u001b[1;33m\u001b[0m\u001b[1;33m\u001b[0m\u001b[0m\n\u001b[1;32m-> 3455\u001b[1;33m             \u001b[0mindexer\u001b[0m \u001b[1;33m=\u001b[0m \u001b[0mself\u001b[0m\u001b[1;33m.\u001b[0m\u001b[0mcolumns\u001b[0m\u001b[1;33m.\u001b[0m\u001b[0mget_loc\u001b[0m\u001b[1;33m(\u001b[0m\u001b[0mkey\u001b[0m\u001b[1;33m)\u001b[0m\u001b[1;33m\u001b[0m\u001b[1;33m\u001b[0m\u001b[0m\n\u001b[0m\u001b[0;32m   3456\u001b[0m             \u001b[1;32mif\u001b[0m \u001b[0mis_integer\u001b[0m\u001b[1;33m(\u001b[0m\u001b[0mindexer\u001b[0m\u001b[1;33m)\u001b[0m\u001b[1;33m:\u001b[0m\u001b[1;33m\u001b[0m\u001b[1;33m\u001b[0m\u001b[0m\n\u001b[0;32m   3457\u001b[0m                 \u001b[0mindexer\u001b[0m \u001b[1;33m=\u001b[0m \u001b[1;33m[\u001b[0m\u001b[0mindexer\u001b[0m\u001b[1;33m]\u001b[0m\u001b[1;33m\u001b[0m\u001b[1;33m\u001b[0m\u001b[0m\n",
      "\u001b[1;32mc:\\users\\arshdeep singh\\appdata\\local\\programs\\python\\python38\\lib\\site-packages\\pandas\\core\\indexes\\base.py\u001b[0m in \u001b[0;36mget_loc\u001b[1;34m(self, key, method, tolerance)\u001b[0m\n\u001b[0;32m   3361\u001b[0m                 \u001b[1;32mreturn\u001b[0m \u001b[0mself\u001b[0m\u001b[1;33m.\u001b[0m\u001b[0m_engine\u001b[0m\u001b[1;33m.\u001b[0m\u001b[0mget_loc\u001b[0m\u001b[1;33m(\u001b[0m\u001b[0mcasted_key\u001b[0m\u001b[1;33m)\u001b[0m\u001b[1;33m\u001b[0m\u001b[1;33m\u001b[0m\u001b[0m\n\u001b[0;32m   3362\u001b[0m             \u001b[1;32mexcept\u001b[0m \u001b[0mKeyError\u001b[0m \u001b[1;32mas\u001b[0m \u001b[0merr\u001b[0m\u001b[1;33m:\u001b[0m\u001b[1;33m\u001b[0m\u001b[1;33m\u001b[0m\u001b[0m\n\u001b[1;32m-> 3363\u001b[1;33m                 \u001b[1;32mraise\u001b[0m \u001b[0mKeyError\u001b[0m\u001b[1;33m(\u001b[0m\u001b[0mkey\u001b[0m\u001b[1;33m)\u001b[0m \u001b[1;32mfrom\u001b[0m \u001b[0merr\u001b[0m\u001b[1;33m\u001b[0m\u001b[1;33m\u001b[0m\u001b[0m\n\u001b[0m\u001b[0;32m   3364\u001b[0m \u001b[1;33m\u001b[0m\u001b[0m\n\u001b[0;32m   3365\u001b[0m         \u001b[1;32mif\u001b[0m \u001b[0mis_scalar\u001b[0m\u001b[1;33m(\u001b[0m\u001b[0mkey\u001b[0m\u001b[1;33m)\u001b[0m \u001b[1;32mand\u001b[0m \u001b[0misna\u001b[0m\u001b[1;33m(\u001b[0m\u001b[0mkey\u001b[0m\u001b[1;33m)\u001b[0m \u001b[1;32mand\u001b[0m \u001b[1;32mnot\u001b[0m \u001b[0mself\u001b[0m\u001b[1;33m.\u001b[0m\u001b[0mhasnans\u001b[0m\u001b[1;33m:\u001b[0m\u001b[1;33m\u001b[0m\u001b[1;33m\u001b[0m\u001b[0m\n",
      "\u001b[1;31mKeyError\u001b[0m: 'mileage'"
     ]
    }
   ],
   "source": [
    "mileage_alter = df1['mileage'].str.split(expand=True)\n",
    "mileage_new = mileage_alter[0]\n",
    "df1['Mileage'] = mileage_new\n",
    "df1 = df.drop(['mileage'],axis=1)\n",
    "df1"
   ]
  },
  {
   "cell_type": "code",
   "execution_count": 316,
   "id": "23ae7d93",
   "metadata": {},
   "outputs": [
    {
     "data": {
      "text/html": [
       "<div>\n",
       "<style scoped>\n",
       "    .dataframe tbody tr th:only-of-type {\n",
       "        vertical-align: middle;\n",
       "    }\n",
       "\n",
       "    .dataframe tbody tr th {\n",
       "        vertical-align: top;\n",
       "    }\n",
       "\n",
       "    .dataframe thead th {\n",
       "        text-align: right;\n",
       "    }\n",
       "</style>\n",
       "<table border=\"1\" class=\"dataframe\">\n",
       "  <thead>\n",
       "    <tr style=\"text-align: right;\">\n",
       "      <th></th>\n",
       "      <th>name</th>\n",
       "      <th>year</th>\n",
       "      <th>selling_price</th>\n",
       "      <th>km_driven</th>\n",
       "      <th>fuel</th>\n",
       "      <th>seller_type</th>\n",
       "      <th>transmission</th>\n",
       "      <th>owner</th>\n",
       "      <th>engine</th>\n",
       "      <th>max_power</th>\n",
       "      <th>torque</th>\n",
       "      <th>seats</th>\n",
       "    </tr>\n",
       "  </thead>\n",
       "  <tbody>\n",
       "    <tr>\n",
       "      <th>0</th>\n",
       "      <td>Maruti Swift Dzire VDI</td>\n",
       "      <td>2014</td>\n",
       "      <td>450000</td>\n",
       "      <td>145500</td>\n",
       "      <td>Diesel</td>\n",
       "      <td>Individual</td>\n",
       "      <td>Manual</td>\n",
       "      <td>First Owner</td>\n",
       "      <td>1248 CC</td>\n",
       "      <td>74 bhp</td>\n",
       "      <td>190Nm@ 2000rpm</td>\n",
       "      <td>5.0</td>\n",
       "    </tr>\n",
       "    <tr>\n",
       "      <th>1</th>\n",
       "      <td>Skoda Rapid 1.5 TDI Ambition</td>\n",
       "      <td>2014</td>\n",
       "      <td>370000</td>\n",
       "      <td>120000</td>\n",
       "      <td>Diesel</td>\n",
       "      <td>Individual</td>\n",
       "      <td>Manual</td>\n",
       "      <td>Second Owner</td>\n",
       "      <td>1498 CC</td>\n",
       "      <td>103.52 bhp</td>\n",
       "      <td>250Nm@ 1500-2500rpm</td>\n",
       "      <td>5.0</td>\n",
       "    </tr>\n",
       "    <tr>\n",
       "      <th>2</th>\n",
       "      <td>Honda City 2017-2020 EXi</td>\n",
       "      <td>2006</td>\n",
       "      <td>158000</td>\n",
       "      <td>140000</td>\n",
       "      <td>Petrol</td>\n",
       "      <td>Individual</td>\n",
       "      <td>Manual</td>\n",
       "      <td>Third Owner</td>\n",
       "      <td>1497 CC</td>\n",
       "      <td>78 bhp</td>\n",
       "      <td>12.7@ 2,700(kgm@ rpm)</td>\n",
       "      <td>5.0</td>\n",
       "    </tr>\n",
       "    <tr>\n",
       "      <th>3</th>\n",
       "      <td>Hyundai i20 Sportz Diesel</td>\n",
       "      <td>2010</td>\n",
       "      <td>225000</td>\n",
       "      <td>127000</td>\n",
       "      <td>Diesel</td>\n",
       "      <td>Individual</td>\n",
       "      <td>Manual</td>\n",
       "      <td>First Owner</td>\n",
       "      <td>1396 CC</td>\n",
       "      <td>90 bhp</td>\n",
       "      <td>22.4 kgm at 1750-2750rpm</td>\n",
       "      <td>5.0</td>\n",
       "    </tr>\n",
       "    <tr>\n",
       "      <th>4</th>\n",
       "      <td>Maruti Swift VXI BSIII</td>\n",
       "      <td>2007</td>\n",
       "      <td>130000</td>\n",
       "      <td>120000</td>\n",
       "      <td>Petrol</td>\n",
       "      <td>Individual</td>\n",
       "      <td>Manual</td>\n",
       "      <td>First Owner</td>\n",
       "      <td>1298 CC</td>\n",
       "      <td>88.2 bhp</td>\n",
       "      <td>11.5@ 4,500(kgm@ rpm)</td>\n",
       "      <td>5.0</td>\n",
       "    </tr>\n",
       "  </tbody>\n",
       "</table>\n",
       "</div>"
      ],
      "text/plain": [
       "                           name  year  selling_price  km_driven    fuel  \\\n",
       "0        Maruti Swift Dzire VDI  2014         450000     145500  Diesel   \n",
       "1  Skoda Rapid 1.5 TDI Ambition  2014         370000     120000  Diesel   \n",
       "2      Honda City 2017-2020 EXi  2006         158000     140000  Petrol   \n",
       "3     Hyundai i20 Sportz Diesel  2010         225000     127000  Diesel   \n",
       "4        Maruti Swift VXI BSIII  2007         130000     120000  Petrol   \n",
       "\n",
       "  seller_type transmission         owner   engine   max_power  \\\n",
       "0  Individual       Manual   First Owner  1248 CC      74 bhp   \n",
       "1  Individual       Manual  Second Owner  1498 CC  103.52 bhp   \n",
       "2  Individual       Manual   Third Owner  1497 CC      78 bhp   \n",
       "3  Individual       Manual   First Owner  1396 CC      90 bhp   \n",
       "4  Individual       Manual   First Owner  1298 CC    88.2 bhp   \n",
       "\n",
       "                     torque  seats  \n",
       "0            190Nm@ 2000rpm    5.0  \n",
       "1       250Nm@ 1500-2500rpm    5.0  \n",
       "2     12.7@ 2,700(kgm@ rpm)    5.0  \n",
       "3  22.4 kgm at 1750-2750rpm    5.0  \n",
       "4     11.5@ 4,500(kgm@ rpm)    5.0  "
      ]
     },
     "execution_count": 316,
     "metadata": {},
     "output_type": "execute_result"
    }
   ],
   "source": [
    "df1.head()"
   ]
  },
  {
   "cell_type": "code",
   "execution_count": 317,
   "id": "4f8acf21",
   "metadata": {},
   "outputs": [
    {
     "data": {
      "text/plain": [
       "<matplotlib.axes._subplots.AxesSubplot at 0x212ca437040>"
      ]
     },
     "execution_count": 317,
     "metadata": {},
     "output_type": "execute_result"
    },
    {
     "data": {
      "image/png": "[encoded data removed]",
      "text/plain": [
       "<Figure size 864x864 with 2 Axes>"
      ]
     },
     "metadata": {
      "needs_background": "light"
     },
     "output_type": "display_data"
    }
   ],
   "source": [
    "plt.figure(figsize = (12,12))\n",
    "sns.heatmap(df1.corr(), annot = True)"
   ]
  },
  {
   "cell_type": "code",
   "execution_count": 49,
   "id": "35abe70d",
   "metadata": {},
   "outputs": [
    {
     "name": "stdout",
     "output_type": "stream",
     "text": [
      "<class 'pandas.core.frame.DataFrame'>\n",
      "Int64Index: 7906 entries, 0 to 8127\n",
      "Data columns (total 19 columns):\n",
      " #   Column                Non-Null Count  Dtype  \n",
      "---  ------                --------------  -----  \n",
      " 0   name                  7906 non-null   object \n",
      " 1   year                  7906 non-null   int64  \n",
      " 2   selling_price         7906 non-null   int64  \n",
      " 3   km_driven             7906 non-null   int64  \n",
      " 4   mileage               7906 non-null   object \n",
      " 5   engine                7906 non-null   object \n",
      " 6   max_power             7906 non-null   object \n",
      " 7   torque                7906 non-null   object \n",
      " 8   seats                 7906 non-null   float64\n",
      " 9   Diesel                7906 non-null   uint8  \n",
      " 10  LPG                   7906 non-null   uint8  \n",
      " 11  Petrol                7906 non-null   uint8  \n",
      " 12  Transmission          7906 non-null   uint8  \n",
      " 13  Individual            7906 non-null   uint8  \n",
      " 14  Trustmark Dealer      7906 non-null   uint8  \n",
      " 15  Fourth & Above Owner  7906 non-null   uint8  \n",
      " 16  Second Owner          7906 non-null   uint8  \n",
      " 17  Test Drive Car        7906 non-null   uint8  \n",
      " 18  Third Owner           7906 non-null   uint8  \n",
      "dtypes: float64(1), int64(3), object(5), uint8(10)\n",
      "memory usage: 694.9+ KB\n"
     ]
    }
   ],
   "source": [
    "df1.info()"
   ]
  },
  {
   "cell_type": "markdown",
   "id": "6a2b1bdc",
   "metadata": {},
   "source": [
    "# SelectKBest"
   ]
  },
  {
   "cell_type": "code",
   "execution_count": 50,
   "id": "5d911e90",
   "metadata": {},
   "outputs": [],
   "source": [
    "from sklearn.feature_selection import SelectKBest\n",
    "from sklearn.feature_selection import chi2"
   ]
  },
  {
   "cell_type": "code",
   "execution_count": 51,
   "id": "6bfdde50",
   "metadata": {},
   "outputs": [],
   "source": [
    "x = df1.drop(['name', 'mileage', 'engine', 'max_power', 'torque', 'selling_price'], axis = 1)\n",
    "y =  df1.selling_price"
   ]
  },
  {
   "cell_type": "code",
   "execution_count": 52,
   "id": "baa3e5b9",
   "metadata": {},
   "outputs": [],
   "source": [
    "best_features = SelectKBest(score_func = chi2, k=10)\n",
    "fit = best_features.fit(x,y)"
   ]
  },
  {
   "cell_type": "code",
   "execution_count": 53,
   "id": "3e341321",
   "metadata": {},
   "outputs": [
    {
     "name": "stdout",
     "output_type": "stream",
     "text": [
      "                   Specs         Score\n",
      "1              km_driven  5.497862e+07\n",
      "11        Test Drive Car  4.886681e+03\n",
      "8       Trustmark Dealer  2.908887e+03\n",
      "4                    LPG  1.149598e+03\n",
      "5                 Petrol  1.047291e+03\n",
      "12           Third Owner  9.787980e+02\n",
      "9   Fourth & Above Owner  9.300784e+02\n",
      "10          Second Owner  9.174338e+02\n",
      "3                 Diesel  8.876942e+02\n",
      "6           Transmission  5.486337e+02\n"
     ]
    }
   ],
   "source": [
    "df_scores = pd.DataFrame(fit.scores_)\n",
    "df_columns = pd.DataFrame(x.columns)\n",
    "##concat two dataframes for better visualization \n",
    "features_scores = pd.concat([df_columns, df_scores], axis = 1)\n",
    "features_scores.columns = ['Specs', 'Score'] #naming columns\n",
    "print(features_scores.nlargest(10,'Score')) #print 10 best features"
   ]
  },
  {
   "cell_type": "markdown",
   "id": "e116306f",
   "metadata": {},
   "source": [
    "# ExtraTreesClassifier"
   ]
  },
  {
   "cell_type": "code",
   "execution_count": 54,
   "id": "fc53259a",
   "metadata": {},
   "outputs": [],
   "source": [
    "from sklearn.ensemble import ExtraTreesClassifier"
   ]
  },
  {
   "cell_type": "code",
   "execution_count": 55,
   "id": "286e0dca",
   "metadata": {},
   "outputs": [],
   "source": [
    "model = ExtraTreesClassifier()\n",
    "#model.fit(x, y)"
   ]
  },
  {
   "cell_type": "code",
   "execution_count": 57,
   "id": "332cb16e",
   "metadata": {},
   "outputs": [],
   "source": [
    "#print(model.feature_importances_) #use inbuilt class feature_importances of tree based classifiers\n",
    "#feat_importances = pd.Series(model.feature_importances_, index = df.columns)\n",
    "#feat_importances.nlargest(18).plot(kind = 'bar')"
   ]
  },
  {
   "cell_type": "markdown",
   "id": "1b5ecffc",
   "metadata": {},
   "source": [
    "# k nearlest"
   ]
  },
  {
   "cell_type": "code",
   "execution_count": 58,
   "id": "e9fdd22a",
   "metadata": {},
   "outputs": [],
   "source": [
    "from sklearn.neighbors import KNeighborsClassifier\n",
    "from sklearn.model_selection import train_test_split"
   ]
  },
  {
   "cell_type": "code",
   "execution_count": 59,
   "id": "f4394f2a",
   "metadata": {},
   "outputs": [],
   "source": [
    "x_train,x_test,y_train,y_test = train_test_split(x,y, test_size = 0.3, random_state= 100)"
   ]
  },
  {
   "cell_type": "code",
   "execution_count": 60,
   "id": "0324a3c9",
   "metadata": {},
   "outputs": [],
   "source": [
    "knn = KNeighborsClassifier(n_neighbors = 19)"
   ]
  },
  {
   "cell_type": "code",
   "execution_count": 61,
   "id": "005b28fc",
   "metadata": {},
   "outputs": [
    {
     "data": {
      "text/plain": [
       "KNeighborsClassifier(n_neighbors=19)"
      ]
     },
     "execution_count": 61,
     "metadata": {},
     "output_type": "execute_result"
    }
   ],
   "source": [
    "knn.fit(x_train, y_train)"
   ]
  },
  {
   "cell_type": "code",
   "execution_count": 62,
   "id": "0a5fa188",
   "metadata": {},
   "outputs": [],
   "source": [
    "predict = knn.predict(x_test)"
   ]
  },
  {
   "cell_type": "code",
   "execution_count": 63,
   "id": "ed7ccee3",
   "metadata": {},
   "outputs": [
    {
     "data": {
      "text/plain": [
       "array([350000, 300000, 750000, ..., 300000, 170000, 484999], dtype=int64)"
      ]
     },
     "execution_count": 63,
     "metadata": {},
     "output_type": "execute_result"
    }
   ],
   "source": [
    "predict"
   ]
  },
  {
   "cell_type": "code",
   "execution_count": 64,
   "id": "289320cc",
   "metadata": {},
   "outputs": [],
   "source": [
    "from sklearn.metrics import classification_report"
   ]
  },
  {
   "cell_type": "code",
   "execution_count": 65,
   "id": "2ed65867",
   "metadata": {},
   "outputs": [
    {
     "name": "stdout",
     "output_type": "stream",
     "text": [
      "              precision    recall  f1-score   support\n",
      "\n",
      "       30000       0.00      0.00      0.00         1\n",
      "       31504       0.00      0.00      0.00         1\n",
      "       40000       0.00      0.00      0.00         6\n",
      "       45000       0.00      0.00      0.00         3\n",
      "       45957       0.00      0.00      0.00         1\n",
      "       50000       0.00      0.00      0.00         6\n",
      "       55000       0.00      0.00      0.00         6\n",
      "       55599       1.00      1.00      1.00         1\n",
      "       60000       0.00      0.00      0.00         3\n",
      "       65000       0.00      0.00      0.00         5\n",
      "       70000       0.00      0.00      0.00         8\n",
      "       75000       0.00      0.00      0.00         4\n",
      "       78000       0.00      0.00      0.00         1\n",
      "       80000       0.00      0.00      0.00         8\n",
      "       81000       0.00      0.00      0.00         2\n",
      "       85000       0.00      0.00      0.00         8\n",
      "       89000       0.00      0.00      0.00         1\n",
      "       90000       0.00      0.00      0.00         7\n",
      "       93000       0.00      0.00      0.00         1\n",
      "       95000       0.00      0.00      0.00         4\n",
      "       96000       0.00      0.00      0.00         1\n",
      "      100000       0.09      0.06      0.07        16\n",
      "      101000       0.00      0.00      0.00         1\n",
      "      105000       0.00      0.00      0.00         3\n",
      "      108000       0.00      0.00      0.00         2\n",
      "      110000       0.00      0.00      0.00         9\n",
      "      114999       0.00      0.00      0.00         5\n",
      "      115999       0.00      0.00      0.00         1\n",
      "      119000       0.00      0.00      0.00         1\n",
      "      120000       0.00      0.00      0.00        23\n",
      "      125000       0.00      0.00      0.00        10\n",
      "      128000       0.00      0.00      0.00         1\n",
      "      129000       0.00      0.00      0.00         1\n",
      "      130000       0.06      0.08      0.07        13\n",
      "      135000       0.00      0.00      0.00        13\n",
      "      140000       0.12      0.09      0.11        11\n",
      "      141000       0.00      0.00      0.00         1\n",
      "      142000       0.00      0.00      0.00         0\n",
      "      145000       0.00      0.00      0.00         6\n",
      "      148000       0.00      0.00      0.00         2\n",
      "      150000       0.09      0.17      0.12        42\n",
      "      152000       0.00      0.00      0.00         0\n",
      "      155000       0.00      0.00      0.00         5\n",
      "      158000       0.00      0.00      0.00         1\n",
      "      160000       0.00      0.00      0.00        15\n",
      "      165000       0.00      0.00      0.00         7\n",
      "      170000       0.00      0.00      0.00        13\n",
      "      175000       0.00      0.00      0.00         9\n",
      "      180000       0.02      0.06      0.03        16\n",
      "      185000       0.00      0.00      0.00        10\n",
      "      187000       0.00      0.00      0.00         1\n",
      "      190000       0.00      0.00      0.00        13\n",
      "      191000       0.00      0.00      0.00         1\n",
      "      195000       0.00      0.00      0.00         8\n",
      "      196000       0.00      0.00      0.00         2\n",
      "      198000       0.00      0.00      0.00         2\n",
      "      200000       0.05      0.15      0.08        33\n",
      "      204000       0.00      0.00      0.00         1\n",
      "      204999       0.00      0.00      0.00         6\n",
      "      210000       0.09      0.05      0.07        19\n",
      "      211000       0.00      0.00      0.00         1\n",
      "      215000       0.00      0.00      0.00         8\n",
      "      217000       0.00      0.00      0.00         0\n",
      "      219000       0.00      0.00      0.00         1\n",
      "      220000       0.00      0.00      0.00        18\n",
      "      221000       0.00      0.00      0.00         2\n",
      "      225000       0.29      0.35      0.32        26\n",
      "      227999       0.00      0.00      0.00         0\n",
      "      229999       0.00      0.00      0.00        11\n",
      "      231000       0.00      0.00      0.00         1\n",
      "      235000       0.00      0.00      0.00         9\n",
      "      236000       0.00      0.00      0.00         1\n",
      "      240000       0.00      0.00      0.00         9\n",
      "      242000       0.00      0.00      0.00         1\n",
      "      245000       0.00      0.00      0.00         7\n",
      "      246000       0.00      0.00      0.00         2\n",
      "      250000       0.04      0.10      0.06        50\n",
      "      250999       0.00      0.00      0.00         2\n",
      "      254999       0.00      0.00      0.00         3\n",
      "      259000       0.00      0.00      0.00         1\n",
      "      260000       0.00      0.00      0.00        13\n",
      "      262000       0.00      0.00      0.00         2\n",
      "      265000       0.10      0.11      0.11         9\n",
      "      267000       0.00      0.00      0.00         0\n",
      "      270000       0.00      0.00      0.00        19\n",
      "      275000       0.00      0.00      0.00        11\n",
      "      277000       0.00      0.00      0.00         1\n",
      "      279000       0.00      0.00      0.00         1\n",
      "      280000       0.00      0.00      0.00        24\n",
      "      282000       0.00      0.00      0.00         2\n",
      "      285000       0.00      0.00      0.00         4\n",
      "      287000       0.00      0.00      0.00         1\n",
      "      290000       0.00      0.00      0.00        14\n",
      "      295000       0.00      0.00      0.00         2\n",
      "      297000       0.00      0.00      0.00         1\n",
      "      299000       0.00      0.00      0.00         1\n",
      "      300000       0.06      0.15      0.08        61\n",
      "      305000       0.00      0.00      0.00         3\n",
      "      308000       0.00      0.00      0.00         1\n",
      "      310000       0.00      0.00      0.00        23\n",
      "      312000       0.00      0.00      0.00         1\n",
      "      313000       0.00      0.00      0.00         1\n",
      "      315000       0.00      0.00      0.00         2\n",
      "      316000       0.00      0.00      0.00         1\n",
      "      320000       0.00      0.00      0.00        28\n",
      "      321000       0.00      0.00      0.00         1\n",
      "      325000       0.00      0.00      0.00        22\n",
      "      327000       0.00      0.00      0.00         1\n",
      "      328000       0.00      0.00      0.00         2\n",
      "      329000       0.00      0.00      0.00         2\n",
      "      330000       0.00      0.00      0.00        10\n",
      "      335000       0.14      0.29      0.19         7\n",
      "      339000       0.00      0.00      0.00         1\n",
      "      340000       0.00      0.00      0.00        13\n",
      "      341000       0.00      0.00      0.00         1\n",
      "      345000       0.00      0.00      0.00         2\n",
      "      346000       0.00      0.00      0.00         1\n",
      "      347000       0.00      0.00      0.00         1\n",
      "      350000       0.01      0.02      0.01        58\n",
      "      351000       0.00      0.00      0.00         3\n",
      "      352000       0.00      0.00      0.00         1\n",
      "      355000       0.00      0.00      0.00         4\n",
      "      356000       0.00      0.00      0.00         1\n",
      "      360000       0.00      0.00      0.00        10\n",
      "      365000       0.00      0.00      0.00         1\n",
      "      366000       0.00      0.00      0.00         1\n",
      "      370000       0.08      0.08      0.08        13\n",
      "      371000       0.00      0.00      0.00         3\n",
      "      374000       0.00      0.00      0.00         1\n",
      "      375000       0.00      0.00      0.00        18\n",
      "      380000       0.00      0.00      0.00        15\n",
      "      382000       0.00      0.00      0.00         2\n",
      "      385000       0.00      0.00      0.00         3\n",
      "      388000       0.00      0.00      0.00         1\n",
      "      390000       0.00      0.00      0.00         7\n",
      "      391000       0.00      0.00      0.00         2\n",
      "      395000       0.00      0.00      0.00         4\n",
      "      400000       0.08      0.09      0.08        57\n",
      "      408000       0.00      0.00      0.00         1\n",
      "      409000       0.00      0.00      0.00         1\n",
      "      409999       0.00      0.00      0.00         8\n",
      "      411000       0.00      0.00      0.00         3\n",
      "      415000       0.00      0.00      0.00         5\n",
      "      416000       0.00      0.00      0.00         1\n",
      "      420000       0.00      0.00      0.00         6\n",
      "      421000       0.00      0.00      0.00         1\n",
      "      423000       0.00      0.00      0.00         1\n",
      "      425000       0.00      0.00      0.00        12\n",
      "      428000       0.00      0.00      0.00         1\n",
      "      430000       0.00      0.00      0.00        13\n",
      "      434999       0.00      0.00      0.00         6\n",
      "      440000       0.00      0.00      0.00         7\n",
      "      441000       0.00      0.00      0.00         1\n",
      "      445000       0.00      0.00      0.00         4\n",
      "      448000       0.00      0.00      0.00         1\n",
      "      450000       0.13      0.19      0.15        64\n",
      "      451000       0.00      0.00      0.00         1\n",
      "      451999       0.00      0.00      0.00         1\n",
      "      453000       0.00      0.00      0.00         1\n",
      "      454000       0.00      0.00      0.00         1\n",
      "      455000       0.00      0.00      0.00         3\n",
      "      455999       0.00      0.00      0.00         1\n",
      "      459999       0.00      0.00      0.00        11\n",
      "      465000       0.00      0.00      0.00         5\n",
      "      466000       0.00      0.00      0.00         2\n",
      "      467000       0.00      0.00      0.00         1\n",
      "      470000       0.12      0.11      0.12         9\n",
      "      472000       0.00      0.00      0.00         2\n",
      "      475000       0.11      0.06      0.07        18\n",
      "      476999       0.00      0.00      0.00         1\n",
      "      480000       0.00      0.00      0.00        13\n",
      "      483000       0.00      0.00      0.00         1\n",
      "      484999       0.00      0.00      0.00         8\n",
      "      488999       0.00      0.00      0.00         1\n",
      "      490000       0.00      0.00      0.00         4\n",
      "      495000       0.00      0.00      0.00         2\n",
      "      499000       0.00      0.00      0.00         2\n",
      "      500000       0.09      0.13      0.11        52\n",
      "      503000       0.33      1.00      0.50         6\n",
      "      509999       0.00      0.00      0.00         9\n",
      "      511000       0.00      0.00      0.00         2\n",
      "      515000       0.00      0.00      0.00         7\n",
      "      520000       0.12      0.22      0.16         9\n",
      "      521000       0.00      0.00      0.00         1\n",
      "      522000       0.00      0.00      0.00         1\n",
      "      524000       0.00      0.00      0.00         1\n",
      "      525000       0.00      0.00      0.00        29\n",
      "      530000       0.00      0.00      0.00        12\n",
      "      535000       0.00      0.00      0.00         7\n",
      "      540000       0.00      0.00      0.00         4\n",
      "      541000       0.00      0.00      0.00         1\n",
      "      545000       0.00      0.00      0.00         2\n",
      "      550000       0.13      0.19      0.16        58\n",
      "      551000       0.00      0.00      0.00         2\n",
      "      555000       0.00      0.00      0.00         1\n",
      "      556000       0.00      0.00      0.00         1\n",
      "      560000       0.00      0.00      0.00        10\n",
      "      562000       0.00      0.00      0.00         1\n",
      "      565000       0.00      0.00      0.00         3\n",
      "      570000       0.00      0.00      0.00         8\n",
      "      571000       0.00      0.00      0.00         1\n",
      "      573000       0.00      0.00      0.00         1\n",
      "      574000       0.00      0.00      0.00         1\n",
      "      575000       0.00      0.00      0.00         8\n",
      "      576000       0.00      0.00      0.00         1\n",
      "      580000       0.00      0.00      0.00        10\n",
      "      585000       0.00      0.00      0.00         3\n",
      "      590000       0.00      0.00      0.00         6\n",
      "      595000       0.00      0.00      0.00         3\n",
      "      597000       0.00      0.00      0.00         1\n",
      "      599000       0.00      0.00      0.00         1\n",
      "      600000       0.12      0.19      0.15        63\n",
      "      604000       0.00      0.00      0.00         1\n",
      "      605000       0.00      0.00      0.00         2\n",
      "      610000       0.00      0.00      0.00        13\n",
      "      611000       0.00      0.00      0.00         2\n",
      "      615000       0.00      0.00      0.00         4\n",
      "      620000       0.00      0.00      0.00        14\n",
      "      625000       0.19      0.29      0.23        14\n",
      "      626000       0.00      0.00      0.00         2\n",
      "      630000       0.00      0.00      0.00         7\n",
      "      631000       0.00      0.00      0.00         1\n",
      "      634000       0.00      0.00      0.00         1\n",
      "      635000       0.00      0.00      0.00         4\n",
      "      640000       0.00      0.00      0.00         5\n",
      "      643000       0.00      0.00      0.00         1\n",
      "      645000       0.70      1.00      0.82         7\n",
      "      650000       0.27      0.29      0.28        62\n",
      "      651000       0.00      0.00      0.00         1\n",
      "      655000       0.00      0.00      0.00         2\n",
      "      660000       0.00      0.00      0.00         8\n",
      "      665000       0.00      0.00      0.00         2\n",
      "      666000       0.00      0.00      0.00         1\n",
      "      667000       0.00      0.00      0.00         1\n",
      "      669000       0.00      0.00      0.00         1\n",
      "      670000       0.00      0.00      0.00         8\n",
      "      671000       0.00      0.00      0.00         1\n",
      "      675000       0.00      0.00      0.00        16\n",
      "      680000       0.00      0.00      0.00         5\n",
      "      681000       0.00      0.00      0.00         2\n",
      "      690000       0.08      0.20      0.12         5\n",
      "      693000       0.00      0.00      0.00         2\n",
      "      695000       0.00      0.00      0.00         2\n",
      "      700000       0.09      0.19      0.13        42\n",
      "      710000       0.00      0.00      0.00         2\n",
      "      711000       0.00      0.00      0.00         1\n",
      "      715000       0.00      0.00      0.00         1\n",
      "      720000       0.00      0.00      0.00         0\n",
      "      721000       0.00      0.00      0.00         1\n",
      "      725000       0.00      0.00      0.00         5\n",
      "      730000       0.00      0.00      0.00         4\n",
      "      735000       0.00      0.00      0.00         3\n",
      "      740000       0.36      0.77      0.49        13\n",
      "      741000       0.00      0.00      0.00         1\n",
      "      745000       0.00      0.00      0.00         3\n",
      "      749000       0.00      0.00      0.00         1\n",
      "      750000       0.19      0.22      0.20        46\n",
      "      754000       0.00      0.00      0.00         1\n",
      "      755000       0.00      0.00      0.00         1\n",
      "      764000       0.00      0.00      0.00         1\n",
      "      770000       0.00      0.00      0.00         2\n",
      "      775000       0.00      0.00      0.00         5\n",
      "      778000       0.00      0.00      0.00         1\n",
      "      779000       0.62      1.00      0.77        10\n",
      "      780000       0.00      0.00      0.00         4\n",
      "      790000       0.00      0.00      0.00         2\n",
      "      795000       0.00      0.00      0.00         2\n",
      "      797000       0.00      0.00      0.00         1\n",
      "      800000       0.06      0.06      0.06        32\n",
      "      803999       0.00      0.00      0.00         1\n",
      "      805000       0.00      0.00      0.00         0\n",
      "      810000       0.00      0.00      0.00         2\n",
      "      811000       0.00      0.00      0.00         1\n",
      "      819999       0.00      0.00      0.00         5\n",
      "      822000       0.00      0.00      0.00         1\n",
      "      825000       0.00      0.00      0.00         4\n",
      "      830000       0.00      0.00      0.00         2\n",
      "      833000       0.00      0.00      0.00         1\n",
      "      840000       0.00      0.00      0.00         1\n",
      "      850000       0.00      0.00      0.00        19\n",
      "      860000       0.00      0.00      0.00         4\n",
      "      866000       0.00      0.00      0.00         1\n",
      "      869999       0.00      0.00      0.00         4\n",
      "      875000       0.00      0.00      0.00         6\n",
      "      880000       0.00      0.00      0.00         2\n",
      "      885000       0.00      0.00      0.00         1\n",
      "      889000       0.00      0.00      0.00         2\n",
      "      890000       0.00      0.00      0.00         4\n",
      "      894999       0.00      0.00      0.00         1\n",
      "      899000       0.00      0.00      0.00         1\n",
      "      900000       0.10      0.04      0.06        25\n",
      "      910000       0.00      0.00      0.00         4\n",
      "      911000       0.00      0.00      0.00         1\n",
      "      925000       0.00      0.00      0.00         7\n",
      "      934000       0.00      0.00      0.00         1\n",
      "      950000       0.04      0.06      0.05        16\n",
      "      955000       0.00      0.00      0.00         1\n",
      "      965000       0.00      0.00      0.00         1\n",
      "      969999       0.00      0.00      0.00         1\n",
      "      975000       0.00      0.00      0.00         3\n",
      "      980000       0.00      0.00      0.00         1\n",
      "      990000       0.00      0.00      0.00         2\n",
      "      999000       0.00      0.00      0.00         1\n",
      "     1000000       0.50      0.06      0.11        17\n",
      "     1019999       0.00      0.00      0.00         1\n",
      "     1025000       0.00      0.00      0.00         4\n",
      "     1031000       0.00      0.00      0.00         1\n",
      "     1035000       0.00      0.00      0.00         1\n",
      "     1050000       0.00      0.00      0.00        11\n",
      "     1075000       0.00      0.00      0.00         1\n",
      "     1085000       0.00      0.00      0.00         1\n",
      "     1090000       0.00      0.00      0.00         2\n",
      "     1100000       0.00      0.00      0.00        13\n",
      "     1110000       0.00      0.00      0.00         1\n",
      "     1125000       0.00      0.00      0.00         3\n",
      "     1132000       0.00      0.00      0.00         1\n",
      "     1140000       0.00      0.00      0.00         1\n",
      "     1145000       0.00      0.00      0.00         1\n",
      "     1147000       0.00      0.00      0.00         1\n",
      "     1150000       0.00      0.00      0.00         4\n",
      "     1151000       0.00      0.00      0.00         1\n",
      "     1160000       0.00      0.00      0.00         1\n",
      "     1200000       0.00      0.00      0.00        10\n",
      "     1220000       0.00      0.00      0.00         1\n",
      "     1225000       0.00      0.00      0.00         1\n",
      "     1237000       0.00      0.00      0.00         1\n",
      "     1250000       0.00      0.00      0.00         3\n",
      "     1265000       0.00      0.00      0.00         1\n",
      "     1275000       0.00      0.00      0.00         1\n",
      "     1290000       0.00      0.00      0.00         2\n",
      "     1295000       0.00      0.00      0.00         1\n",
      "     1300000       0.06      0.25      0.10         4\n",
      "     1350000       0.00      0.00      0.00         4\n",
      "     1380000       0.00      0.00      0.00         2\n",
      "     1390000       0.00      0.00      0.00         1\n",
      "     1400000       0.00      0.00      0.00         1\n",
      "     1405000       0.00      0.00      0.00         2\n",
      "     1445000       0.00      0.00      0.00         1\n",
      "     1450000       0.00      0.00      0.00         1\n",
      "     1460000       0.00      0.00      0.00         2\n",
      "     1465000       0.00      0.00      0.00         1\n",
      "     1500000       0.00      0.00      0.00         2\n",
      "     1525000       0.00      0.00      0.00         1\n",
      "     1550000       0.00      0.00      0.00         1\n",
      "     1575000       0.00      0.00      0.00         3\n",
      "     1576000       0.00      0.00      0.00         1\n",
      "     1600000       0.00      0.00      0.00         2\n",
      "     1630000       0.00      0.00      0.00         1\n",
      "     1650000       0.00      0.00      0.00         2\n",
      "     1689999       0.00      0.00      0.00         2\n",
      "     1700000       0.00      0.00      0.00         6\n",
      "     1750000       0.00      0.00      0.00         5\n",
      "     1757000       0.00      0.00      0.00         1\n",
      "     1800000       0.00      0.00      0.00         3\n",
      "     1825000       0.00      0.00      0.00         1\n",
      "     1850000       0.00      0.00      0.00         5\n",
      "     1864999       0.00      0.00      0.00         1\n",
      "     1920000       0.00      0.00      0.00         1\n",
      "     1925000       0.00      0.00      0.00         2\n",
      "     1938000       0.00      0.00      0.00         1\n",
      "     1950000       0.00      0.00      0.00         2\n",
      "     2000000       0.35      0.69      0.46        13\n",
      "     2064000       0.00      0.00      0.00         1\n",
      "     2100000       0.00      0.00      0.00         1\n",
      "     2125000       0.00      0.00      0.00         2\n",
      "     2150000       0.00      0.00      0.00         1\n",
      "     2450000       0.00      0.00      0.00         1\n",
      "     2475000       0.62      1.00      0.77         5\n",
      "     2500000       0.00      0.00      0.00         1\n",
      "     2600000       0.00      0.00      0.00         2\n",
      "     2625000       0.00      0.00      0.00         4\n",
      "     2700000       0.00      0.00      0.00         2\n",
      "     2711000       0.47      1.00      0.64         8\n",
      "     2800000       0.00      0.00      0.00         1\n",
      "     2825000       0.00      0.00      0.00         1\n",
      "     2900000       0.00      0.00      0.00         2\n",
      "     2940000       0.00      0.00      0.00         1\n",
      "     2950000       0.00      0.00      0.00         3\n",
      "     3000000       0.00      0.00      0.00         2\n",
      "     3100000       0.00      0.00      0.00         1\n",
      "     3200000       0.40      1.00      0.57         4\n",
      "     3250000       0.00      0.00      0.00         1\n",
      "     3300000       0.00      0.00      0.00         1\n",
      "     3350000       0.00      0.00      0.00         1\n",
      "     3400000       0.00      0.00      0.00         2\n",
      "     3500000       0.00      0.00      0.00         1\n",
      "     3750000       0.00      0.00      0.00         1\n",
      "     3790000       0.00      0.00      0.00         1\n",
      "     3800000       0.46      1.00      0.63         6\n",
      "     3900000       0.00      0.00      0.00         1\n",
      "     3975000       0.50      1.00      0.67         2\n",
      "     4100000       0.00      0.00      0.00         0\n",
      "     4500000       0.00      0.00      0.00         1\n",
      "     4600000       0.00      0.00      0.00         1\n",
      "     5150000       0.83      1.00      0.91        15\n",
      "     5400000       0.71      1.00      0.83        10\n",
      "     5500000       1.00      0.91      0.95        11\n",
      "     5800000       0.00      0.00      0.00         1\n",
      "     6000000       0.00      0.00      0.00         2\n",
      "     7200000       0.00      0.00      0.00         1\n",
      "\n",
      "    accuracy                           0.10      2372\n",
      "   macro avg       0.03      0.04      0.03      2372\n",
      "weighted avg       0.07      0.10      0.08      2372\n",
      "\n"
     ]
    },
    {
     "name": "stderr",
     "output_type": "stream",
     "text": [
      "c:\\users\\arshdeep singh\\appdata\\local\\programs\\python\\python38\\lib\\site-packages\\sklearn\\metrics\\_classification.py:1248: UndefinedMetricWarning: Precision and F-score are ill-defined and being set to 0.0 in labels with no predicted samples. Use `zero_division` parameter to control this behavior.\n",
      "  _warn_prf(average, modifier, msg_start, len(result))\n",
      "c:\\users\\arshdeep singh\\appdata\\local\\programs\\python\\python38\\lib\\site-packages\\sklearn\\metrics\\_classification.py:1248: UndefinedMetricWarning: Recall and F-score are ill-defined and being set to 0.0 in labels with no true samples. Use `zero_division` parameter to control this behavior.\n",
      "  _warn_prf(average, modifier, msg_start, len(result))\n",
      "c:\\users\\arshdeep singh\\appdata\\local\\programs\\python\\python38\\lib\\site-packages\\sklearn\\metrics\\_classification.py:1248: UndefinedMetricWarning: Precision and F-score are ill-defined and being set to 0.0 in labels with no predicted samples. Use `zero_division` parameter to control this behavior.\n",
      "  _warn_prf(average, modifier, msg_start, len(result))\n",
      "c:\\users\\arshdeep singh\\appdata\\local\\programs\\python\\python38\\lib\\site-packages\\sklearn\\metrics\\_classification.py:1248: UndefinedMetricWarning: Recall and F-score are ill-defined and being set to 0.0 in labels with no true samples. Use `zero_division` parameter to control this behavior.\n",
      "  _warn_prf(average, modifier, msg_start, len(result))\n",
      "c:\\users\\arshdeep singh\\appdata\\local\\programs\\python\\python38\\lib\\site-packages\\sklearn\\metrics\\_classification.py:1248: UndefinedMetricWarning: Precision and F-score are ill-defined and being set to 0.0 in labels with no predicted samples. Use `zero_division` parameter to control this behavior.\n",
      "  _warn_prf(average, modifier, msg_start, len(result))\n",
      "c:\\users\\arshdeep singh\\appdata\\local\\programs\\python\\python38\\lib\\site-packages\\sklearn\\metrics\\_classification.py:1248: UndefinedMetricWarning: Recall and F-score are ill-defined and being set to 0.0 in labels with no true samples. Use `zero_division` parameter to control this behavior.\n",
      "  _warn_prf(average, modifier, msg_start, len(result))\n"
     ]
    }
   ],
   "source": [
    "print(classification_report(y_test, predict))"
   ]
  },
  {
   "cell_type": "code",
   "execution_count": 66,
   "id": "06d5bdda",
   "metadata": {},
   "outputs": [
    {
     "name": "stdout",
     "output_type": "stream",
     "text": [
      "0.10370994940978077\n"
     ]
    }
   ],
   "source": [
    "print(knn.score(x_test, y_test))"
   ]
  },
  {
   "cell_type": "code",
   "execution_count": 67,
   "id": "f928e0fe",
   "metadata": {},
   "outputs": [
    {
     "data": {
      "text/plain": [
       "Index(['name', 'year', 'selling_price', 'km_driven', 'mileage', 'engine',\n",
       "       'max_power', 'torque', 'seats', 'Diesel', 'LPG', 'Petrol',\n",
       "       'Transmission', 'Individual', 'Trustmark Dealer',\n",
       "       'Fourth & Above Owner', 'Second Owner', 'Test Drive Car',\n",
       "       'Third Owner'],\n",
       "      dtype='object')"
      ]
     },
     "execution_count": 67,
     "metadata": {},
     "output_type": "execute_result"
    }
   ],
   "source": [
    "df1.columns"
   ]
  },
  {
   "cell_type": "code",
   "execution_count": 98,
   "id": "ac654392",
   "metadata": {},
   "outputs": [],
   "source": [
    "#x = df1[['year', 'Diesel', 'Test Drive Car', 'seats', 'Trustmark Dealer']]  # positive heatmap\n",
    "#x = df1[['Transmission', 'Individual', 'km_driven', 'Petrol', 'Second Owner', 'Third Owner']] # negative cor relation\n",
    "x = df1[['km_driven', 'Test Drive Car', 'Trustmark Dealer', 'LPG', 'Petrol', 'Third Owner', 'Fourth & Above Owner']]\n",
    "y = df1.selling_price"
   ]
  },
  {
   "cell_type": "code",
   "execution_count": 99,
   "id": "12bce43a",
   "metadata": {},
   "outputs": [],
   "source": [
    "x_train,x_test,y_train,y_test = train_test_split(x,y, test_size = 0.2, random_state= 101)"
   ]
  },
  {
   "cell_type": "code",
   "execution_count": 100,
   "id": "afcb7167",
   "metadata": {},
   "outputs": [
    {
     "data": {
      "text/plain": [
       "array([ 150000,  500000,  150000, ...,  503000,  135000, 5150000],\n",
       "      dtype=int64)"
      ]
     },
     "execution_count": 100,
     "metadata": {},
     "output_type": "execute_result"
    }
   ],
   "source": [
    "knn = KNeighborsClassifier(n_neighbors = 7)\n",
    "knn.fit(x_train, y_train)\n",
    "predict = knn.predict(x_test)\n",
    "predict"
   ]
  },
  {
   "cell_type": "code",
   "execution_count": 101,
   "id": "8d2da16a",
   "metadata": {},
   "outputs": [
    {
     "name": "stdout",
     "output_type": "stream",
     "text": [
      "0.1011378002528445\n"
     ]
    }
   ],
   "source": [
    "print(knn.score(x_test, y_test))"
   ]
  },
  {
   "cell_type": "code",
   "execution_count": 102,
   "id": "acadb96d",
   "metadata": {},
   "outputs": [
    {
     "data": {
      "text/plain": [
       "Index(['name', 'year', 'selling_price', 'km_driven', 'mileage', 'engine',\n",
       "       'max_power', 'torque', 'seats', 'Diesel', 'LPG', 'Petrol',\n",
       "       'Transmission', 'Individual', 'Trustmark Dealer',\n",
       "       'Fourth & Above Owner', 'Second Owner', 'Test Drive Car',\n",
       "       'Third Owner'],\n",
       "      dtype='object')"
      ]
     },
     "execution_count": 102,
     "metadata": {},
     "output_type": "execute_result"
    }
   ],
   "source": [
    "df1.columns"
   ]
  },
  {
   "cell_type": "markdown",
   "id": "587e7143",
   "metadata": {},
   "source": [
    "# linear regression"
   ]
  },
  {
   "cell_type": "code",
   "execution_count": 195,
   "id": "c7e180f0",
   "metadata": {},
   "outputs": [],
   "source": [
    "#x = df1[['year', 'Diesel', 'Test Drive Car', 'seats', 'Trustmark Dealer']]  # positive heatmap\n",
    "x = df1[['Transmission', 'Individual', 'km_driven', 'Petrol', 'Second Owner', 'Third Owner']] # negative cor relation\n",
    "#x = df1[['km_driven', 'Test Drive Car', 'Trustmark Dealer', 'LPG', 'Petrol']]\n",
    "y = df1['selling_price']"
   ]
  },
  {
   "cell_type": "code",
   "execution_count": 196,
   "id": "ea9b55fb",
   "metadata": {},
   "outputs": [],
   "source": [
    "from sklearn.linear_model import LinearRegression"
   ]
  },
  {
   "cell_type": "code",
   "execution_count": 197,
   "id": "afd7dd4a",
   "metadata": {},
   "outputs": [],
   "source": [
    "x_train,x_test,y_train,y_test = train_test_split(x,y, test_size = 0.2, random_state= 101)"
   ]
  },
  {
   "cell_type": "code",
   "execution_count": 198,
   "id": "3c4d0d9e",
   "metadata": {},
   "outputs": [],
   "source": [
    "lr = LinearRegression()"
   ]
  },
  {
   "cell_type": "code",
   "execution_count": 199,
   "id": "ed02b998",
   "metadata": {},
   "outputs": [
    {
     "data": {
      "text/plain": [
       "LinearRegression()"
      ]
     },
     "execution_count": 199,
     "metadata": {},
     "output_type": "execute_result"
    }
   ],
   "source": [
    "lr.fit(x_train, y_train)"
   ]
  },
  {
   "cell_type": "code",
   "execution_count": 200,
   "id": "69be9cef",
   "metadata": {},
   "outputs": [],
   "source": [
    "prediction = lr.predict(x_test)"
   ]
  },
  {
   "cell_type": "code",
   "execution_count": 201,
   "id": "594640c1",
   "metadata": {},
   "outputs": [
    {
     "data": {
      "text/plain": [
       "array([ 143912.08176283,  353238.64092511,   82091.86337995, ...,\n",
       "       1794782.28458017,  241822.95418911,  344668.20348388])"
      ]
     },
     "execution_count": 201,
     "metadata": {},
     "output_type": "execute_result"
    }
   ],
   "source": [
    "prediction"
   ]
  },
  {
   "cell_type": "code",
   "execution_count": 202,
   "id": "2718257a",
   "metadata": {},
   "outputs": [
    {
     "name": "stdout",
     "output_type": "stream",
     "text": [
      "0.4672301270192729\n"
     ]
    }
   ],
   "source": [
    "print(lr.score(x_test, y_test))"
   ]
  },
  {
   "cell_type": "markdown",
   "id": "2cd22f55",
   "metadata": {},
   "source": [
    "# logistic regression"
   ]
  },
  {
   "cell_type": "code",
   "execution_count": 203,
   "id": "427edcd5",
   "metadata": {},
   "outputs": [],
   "source": [
    "from sklearn.linear_model import LogisticRegression"
   ]
  },
  {
   "cell_type": "code",
   "execution_count": 233,
   "id": "d901ea06",
   "metadata": {},
   "outputs": [],
   "source": [
    "#x = df1[['year', 'Diesel', 'Test Drive Car', 'seats', 'Trustmark Dealer']]  # positive heatmap\n",
    "x = df1[['Transmission', 'Individual', 'km_driven', 'Petrol', 'Second Owner', 'Third Owner']] # negative cor relation\n",
    "#x = df1[['km_driven', 'Test Drive Car', 'Trustmark Dealer', 'LPG', 'Petrol']]\n",
    "y = df1['selling_price']"
   ]
  },
  {
   "cell_type": "code",
   "execution_count": 234,
   "id": "6c7ffbe6",
   "metadata": {},
   "outputs": [],
   "source": [
    "from sklearn.model_selection import train_test_split"
   ]
  },
  {
   "cell_type": "code",
   "execution_count": 235,
   "id": "370e3c2f",
   "metadata": {},
   "outputs": [],
   "source": [
    "x_train,x_test,y_train,y_test = train_test_split(x,y, test_size = 0.3, random_state= 101)"
   ]
  },
  {
   "cell_type": "code",
   "execution_count": 236,
   "id": "a183877c",
   "metadata": {},
   "outputs": [],
   "source": [
    "lg = LogisticRegression()"
   ]
  },
  {
   "cell_type": "code",
   "execution_count": 237,
   "id": "361560bb",
   "metadata": {},
   "outputs": [
    {
     "name": "stderr",
     "output_type": "stream",
     "text": [
      "c:\\users\\arshdeep singh\\appdata\\local\\programs\\python\\python38\\lib\\site-packages\\sklearn\\linear_model\\_logistic.py:763: ConvergenceWarning: lbfgs failed to converge (status=1):\n",
      "STOP: TOTAL NO. of ITERATIONS REACHED LIMIT.\n",
      "\n",
      "Increase the number of iterations (max_iter) or scale the data as shown in:\n",
      "    https://scikit-learn.org/stable/modules/preprocessing.html\n",
      "Please also refer to the documentation for alternative solver options:\n",
      "    https://scikit-learn.org/stable/modules/linear_model.html#logistic-regression\n",
      "  n_iter_i = _check_optimize_result(\n"
     ]
    },
    {
     "data": {
      "text/plain": [
       "LogisticRegression()"
      ]
     },
     "execution_count": 237,
     "metadata": {},
     "output_type": "execute_result"
    }
   ],
   "source": [
    "lg.fit(x_train,y_train)"
   ]
  },
  {
   "cell_type": "code",
   "execution_count": 238,
   "id": "8608687e",
   "metadata": {},
   "outputs": [],
   "source": [
    "prediction = lg.predict(x_test)"
   ]
  },
  {
   "cell_type": "code",
   "execution_count": 239,
   "id": "ea37f9ff",
   "metadata": {},
   "outputs": [
    {
     "data": {
      "text/plain": [
       "array([550000, 550000, 550000, ..., 550000, 550000, 550000], dtype=int64)"
      ]
     },
     "execution_count": 239,
     "metadata": {},
     "output_type": "execute_result"
    }
   ],
   "source": [
    "prediction"
   ]
  },
  {
   "cell_type": "code",
   "execution_count": 240,
   "id": "b2839439",
   "metadata": {},
   "outputs": [
    {
     "name": "stdout",
     "output_type": "stream",
     "text": [
      "0.026138279932546374\n"
     ]
    }
   ],
   "source": [
    "print(lg.score(x_test, y_test))"
   ]
  },
  {
   "cell_type": "markdown",
   "id": "4ba81a05",
   "metadata": {},
   "source": [
    "# svc"
   ]
  },
  {
   "cell_type": "code",
   "execution_count": 253,
   "id": "f0cd7fff",
   "metadata": {},
   "outputs": [],
   "source": [
    "x = df1[['year', 'Diesel', 'Test Drive Car', 'seats', 'Trustmark Dealer']]  # positive heatmap\n",
    "#x = df1[['Transmission', 'Individual', 'km_driven', 'Petrol', 'Second Owner', 'Third Owner']] # negative cor relation\n",
    "#x = df1[['km_driven', 'Test Drive Car', 'Trustmark Dealer', 'LPG', 'Petrol']]\n",
    "y = df1['selling_price']"
   ]
  },
  {
   "cell_type": "code",
   "execution_count": 254,
   "id": "c3263099",
   "metadata": {},
   "outputs": [],
   "source": [
    "from sklearn.svm import SVC"
   ]
  },
  {
   "cell_type": "code",
   "execution_count": 255,
   "id": "7b7339a8",
   "metadata": {},
   "outputs": [],
   "source": [
    "x_train,x_test,y_train,y_test = train_test_split(x,y, test_size = 0.3, random_state= 101)"
   ]
  },
  {
   "cell_type": "code",
   "execution_count": 256,
   "id": "fd2e8c42",
   "metadata": {},
   "outputs": [],
   "source": [
    "model = SVC()"
   ]
  },
  {
   "cell_type": "code",
   "execution_count": 257,
   "id": "5d74ced8",
   "metadata": {},
   "outputs": [
    {
     "data": {
      "text/plain": [
       "SVC()"
      ]
     },
     "execution_count": 257,
     "metadata": {},
     "output_type": "execute_result"
    }
   ],
   "source": [
    "model.fit(x_train,y_train)"
   ]
  },
  {
   "cell_type": "code",
   "execution_count": 258,
   "id": "84d00784",
   "metadata": {},
   "outputs": [
    {
     "data": {
      "text/plain": [
       "0.03035413153456998"
      ]
     },
     "execution_count": 258,
     "metadata": {},
     "output_type": "execute_result"
    }
   ],
   "source": [
    "model.score(x_test, y_test)"
   ]
  },
  {
   "cell_type": "code",
   "execution_count": null,
   "id": "dc5d9dc0",
   "metadata": {},
   "outputs": [],
   "source": []
  }
 ],
 "metadata": {
  "kernelspec": {
   "display_name": "Python 3 (ipykernel)",
   "language": "python",
   "name": "python3"
  },
  "language_info": {
   "codemirror_mode": {
    "name": "ipython",
    "version": 3
   },
   "file_extension": ".py",
   "mimetype": "text/x-python",
   "name": "python",
   "nbconvert_exporter": "python",
   "pygments_lexer": "ipython3",
   "version": "3.8.1"
  }
 },
 "nbformat": 4,
 "nbformat_minor": 5
}
